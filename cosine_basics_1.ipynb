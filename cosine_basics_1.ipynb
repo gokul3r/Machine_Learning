{
  "nbformat": 4,
  "nbformat_minor": 0,
  "metadata": {
    "colab": {
      "name": "Copy of cosine1.ipynb",
      "provenance": [],
      "authorship_tag": "ABX9TyNSmGKD0e/snvejhglpNv3t",
      "include_colab_link": true
    },
    "kernelspec": {
      "name": "python3",
      "display_name": "Python 3"
    }
  },
  "cells": [
    {
      "cell_type": "markdown",
      "metadata": {
        "id": "view-in-github",
        "colab_type": "text"
      },
      "source": [
        "<a href=\"https://colab.research.google.com/github/gokul3r/Machine_Learning/blob/master/cosine_basics_1.ipynb\" target=\"_parent\"><img src=\"https://colab.research.google.com/assets/colab-badge.svg\" alt=\"Open In Colab\"/></a>"
      ]
    },
    {
      "cell_type": "code",
      "metadata": {
        "id": "Ni6K87l8DBl8",
        "colab_type": "code",
        "colab": {}
      },
      "source": [
        "import spacy"
      ],
      "execution_count": 0,
      "outputs": []
    },
    {
      "cell_type": "code",
      "metadata": {
        "id": "xHFLwxxiDF4X",
        "colab_type": "code",
        "colab": {}
      },
      "source": [
        "nlp = spacy.load('en')"
      ],
      "execution_count": 0,
      "outputs": []
    },
    {
      "cell_type": "code",
      "metadata": {
        "id": "qBruWt4ZDLa4",
        "colab_type": "code",
        "colab": {}
      },
      "source": [
        "doc=nlp(\"[I am Gokul from Chennai.!@#$%^&&**()]<>:\\\"{}\")"
      ],
      "execution_count": 0,
      "outputs": []
    },
    {
      "cell_type": "code",
      "metadata": {
        "id": "b39tUoPlDcda",
        "colab_type": "code",
        "outputId": "79ffd655-8e4d-4243-b0e2-75a81df82f70",
        "colab": {
          "base_uri": "https://localhost:8080/",
          "height": 33
        }
      },
      "source": [
        "doc"
      ],
      "execution_count": 0,
      "outputs": [
        {
          "output_type": "execute_result",
          "data": {
            "text/plain": [
              "[I am Gokul from Chennai.!@#$%^&&**()]<>:\"{}"
            ]
          },
          "metadata": {
            "tags": []
          },
          "execution_count": 30
        }
      ]
    },
    {
      "cell_type": "code",
      "metadata": {
        "id": "WUMC9reFEHrr",
        "colab_type": "code",
        "colab": {
          "base_uri": "https://localhost:8080/",
          "height": 238
        },
        "outputId": "99ef69ea-4ee5-4b57-94fb-7c715a77712d"
      },
      "source": [
        "import re\n",
        "\n",
        "# removing punctuation tokens\n",
        "text_no_punct = [token.text for token in doc if not token.is_punct]\n",
        "\n",
        "# remove punctuation tokens that are in the word string like 'bye!' -> 'bye'\n",
        "REPLACE_PUNCT = re.compile(\"(\\.)|(\\;)|(\\:)|(\\!)|(\\')|(\\?)|(\\,)|(\\\")|(\\()|(\\))|(\\[)|(\\])|(\\@)|(\\#)|(\\$)|(\\%)|(\\^)|(\\<)|(\\>)\")\n",
        "text_no_punct = [REPLACE_PUNCT.sub(\"\", tok) for tok in text_no_punct]"
      ],
      "execution_count": 3,
      "outputs": [
        {
          "output_type": "error",
          "ename": "NameError",
          "evalue": "ignored",
          "traceback": [
            "\u001b[0;31m---------------------------------------------------------------------------\u001b[0m",
            "\u001b[0;31mNameError\u001b[0m                                 Traceback (most recent call last)",
            "\u001b[0;32m<ipython-input-3-e46e18621e1a>\u001b[0m in \u001b[0;36m<module>\u001b[0;34m()\u001b[0m\n\u001b[1;32m      2\u001b[0m \u001b[0;34m\u001b[0m\u001b[0m\n\u001b[1;32m      3\u001b[0m \u001b[0;31m# removing punctuation tokens\u001b[0m\u001b[0;34m\u001b[0m\u001b[0;34m\u001b[0m\u001b[0;34m\u001b[0m\u001b[0m\n\u001b[0;32m----> 4\u001b[0;31m \u001b[0mtext_no_punct\u001b[0m \u001b[0;34m=\u001b[0m \u001b[0;34m[\u001b[0m\u001b[0mtoken\u001b[0m\u001b[0;34m.\u001b[0m\u001b[0mtext\u001b[0m \u001b[0;32mfor\u001b[0m \u001b[0mtoken\u001b[0m \u001b[0;32min\u001b[0m \u001b[0mdoc\u001b[0m \u001b[0;32mif\u001b[0m \u001b[0;32mnot\u001b[0m \u001b[0mtoken\u001b[0m\u001b[0;34m.\u001b[0m\u001b[0mis_punct\u001b[0m\u001b[0;34m]\u001b[0m\u001b[0;34m\u001b[0m\u001b[0;34m\u001b[0m\u001b[0m\n\u001b[0m\u001b[1;32m      5\u001b[0m \u001b[0;34m\u001b[0m\u001b[0m\n\u001b[1;32m      6\u001b[0m \u001b[0;31m# remove punctuation tokens that are in the word string like 'bye!' -> 'bye'\u001b[0m\u001b[0;34m\u001b[0m\u001b[0;34m\u001b[0m\u001b[0;34m\u001b[0m\u001b[0m\n",
            "\u001b[0;31mNameError\u001b[0m: name 'doc' is not defined"
          ]
        }
      ]
    },
    {
      "cell_type": "code",
      "metadata": {
        "id": "lqiqp9zCE1cL",
        "colab_type": "code",
        "outputId": "0c44d196-0b62-462b-fcb4-0c9066a1554d",
        "colab": {
          "base_uri": "https://localhost:8080/",
          "height": 570
        }
      },
      "source": [
        "doc = nlp(\"Apple is looking at buying U.K. startup for $1 billion\")\n",
        "print(doc)\n",
        "for token in doc:\n",
        "    print(token.text,\"--\", token.pos_, \"--\", token.dep_)\n",
        "    print(\"\\n\")"
      ],
      "execution_count": 0,
      "outputs": [
        {
          "output_type": "stream",
          "text": [
            "Apple is looking at buying U.K. startup for $1 billion\n",
            "Apple -- PROPN -- nsubj\n",
            "\n",
            "\n",
            "is -- VERB -- aux\n",
            "\n",
            "\n",
            "looking -- VERB -- ROOT\n",
            "\n",
            "\n",
            "at -- ADP -- prep\n",
            "\n",
            "\n",
            "buying -- VERB -- pcomp\n",
            "\n",
            "\n",
            "U.K. -- PROPN -- compound\n",
            "\n",
            "\n",
            "startup -- NOUN -- dobj\n",
            "\n",
            "\n",
            "for -- ADP -- prep\n",
            "\n",
            "\n",
            "$ -- SYM -- quantmod\n",
            "\n",
            "\n",
            "1 -- NUM -- compound\n",
            "\n",
            "\n",
            "billion -- NUM -- pobj\n",
            "\n",
            "\n"
          ],
          "name": "stdout"
        }
      ]
    },
    {
      "cell_type": "code",
      "metadata": {
        "id": "s-b0Qm5mJqde",
        "colab_type": "code",
        "outputId": "661ef0cc-bace-4d8b-e766-1edc4fa5770e",
        "colab": {
          "base_uri": "https://localhost:8080/",
          "height": 167
        }
      },
      "source": [
        "from gensim.test.utils import common_corpus, common_dictionary, get_tmpfile\n",
        "from gensim.similarities import Similarity\n",
        "\n",
        "index_tmpfile = get_tmpfile(\"index\")\n",
        "query = [(1, 2), (6, 1), (7, 2)]\n",
        "index = Similarity(index_tmpfile, common_corpus, num_features=len(common_dictionary))  # build the index\n",
        "similarities = index[query]  # get similarities between the query and all index documents"
      ],
      "execution_count": 0,
      "outputs": [
        {
          "output_type": "stream",
          "text": [
            "/usr/local/lib/python3.6/dist-packages/gensim/matutils.py:718: FutureWarning: Conversion of the second argument of issubdtype from `int` to `np.signedinteger` is deprecated. In future, it will be treated as `np.int64 == np.dtype(int).type`.\n",
            "  if np.issubdtype(vec.dtype, np.int):\n",
            "/usr/local/lib/python3.6/dist-packages/gensim/matutils.py:737: FutureWarning: Conversion of the second argument of issubdtype from `int` to `np.signedinteger` is deprecated. In future, it will be treated as `np.int64 == np.dtype(int).type`.\n",
            "  if np.issubdtype(vec.dtype, np.int):\n",
            "/usr/local/lib/python3.6/dist-packages/smart_open/smart_open_lib.py:402: UserWarning: This function is deprecated, use smart_open.open instead. See the migration notes for details: https://github.com/RaRe-Technologies/smart_open/blob/master/README.rst#migrating-to-the-new-open-function\n",
            "  'See the migration notes for details: %s' % _MIGRATION_NOTES_URL\n",
            "/usr/local/lib/python3.6/dist-packages/gensim/similarities/docsim.py:518: FutureWarning: arrays to stack must be passed as a \"sequence\" type such as list or tuple. Support for non-sequence iterables such as generators is deprecated as of NumPy 1.16 and will raise an error in the future.\n",
            "  result = numpy.hstack(shard_results)\n"
          ],
          "name": "stderr"
        }
      ]
    },
    {
      "cell_type": "code",
      "metadata": {
        "id": "Nbuh9nTyKHAo",
        "colab_type": "code",
        "outputId": "8cce8b95-a332-4fbf-e990-2c3b2d121220",
        "colab": {
          "base_uri": "https://localhost:8080/",
          "height": 52
        }
      },
      "source": [
        "from gensim.test.utils import common_corpus, common_dictionary\n",
        "from gensim.similarities import MatrixSimilarity\n",
        "query = [(1, 2), (5, 4)]\n",
        "index = MatrixSimilarity(common_corpus, num_features=len(common_dictionary))\n",
        "sims = index[query]"
      ],
      "execution_count": 1,
      "outputs": [
        {
          "output_type": "stream",
          "text": [
            "/usr/local/lib/python3.6/dist-packages/gensim/matutils.py:737: FutureWarning: Conversion of the second argument of issubdtype from `int` to `np.signedinteger` is deprecated. In future, it will be treated as `np.int64 == np.dtype(int).type`.\n",
            "  if np.issubdtype(vec.dtype, np.int):\n"
          ],
          "name": "stderr"
        }
      ]
    },
    {
      "cell_type": "code",
      "metadata": {
        "id": "pyI700f5Tqf2",
        "colab_type": "code",
        "outputId": "38f10a9c-3cd3-4ce1-80ed-5da78efdecbb",
        "colab": {
          "base_uri": "https://localhost:8080/",
          "height": 638
        }
      },
      "source": [
        "import nltk \n",
        "from nltk.corpus import stopwords \n",
        "from nltk.tokenize import word_tokenize \n",
        "nltk.download('punkt')\n",
        "nltk.download('stopwords')\n",
        "\n",
        "X=\"Gokul is a data-scientist.I am good*from india.he play cricket\"\n",
        "Y=\"Sachin is a cricket-batsman.He is good&&from india\"\n",
        "l1=[]\n",
        "l2=[]\n",
        "print(\"Original Data:\\n\",X,\"\\n\",Y)\n",
        "X=X.lower()\n",
        "X=re.sub('[^A-Za-z0-9]+', ' ', X)\n",
        "Y=Y.lower()\n",
        "Y=re.sub('[^A-Za-z0-9]+', ' ', Y)\n",
        "\n",
        "print(\"After removing special chars:\\n\", X,\"\\n\",Y)\n",
        "X_list = word_tokenize(X)  \n",
        "Y_list=word_tokenize(Y)\n",
        "print(\"After tokenizing X:\\n\",X_list)\n",
        "print(\"After tokenizing Y:\\n\",Y_list)\n",
        "  \n",
        "sw = stopwords.words('english')  \n",
        "X_set = {w for w in X_list if not w in sw}\n",
        "print(\"After removing stop words in X:\\n\",X_set)\n",
        "Y_set = {w for w in Y_list if not w in sw}\n",
        "print(\"After removing stop words in Y:\\n\",Y_set)\n",
        "\n",
        "rvector = X_set.union(Y_set)  \n",
        "for w in rvector: \n",
        "    if w in X_set: l1.append(1) # create a vector \n",
        "    else: l1.append(0) \n",
        "    if w in Y_set: l2.append(1) \n",
        "    else: l2.append(0) \n",
        "c = 0\n",
        "\n",
        "print(\"RVECTOR:\\n\",rvector)\n",
        "print(l1)\n",
        "print(l2)\n",
        "\n",
        "\n",
        "for i in range(len(rvector)): \n",
        "        c+= l1[i]*l2[i] \n",
        "        print(\"C now:\",c)\n",
        "\n",
        "print(\"Final C:\",c)\n",
        "cosine = c / float((sum(l1)*sum(l2))**0.5) \n",
        "\n",
        "print(sum(l1))\n",
        "print(float((sum(l1)*sum(l2))**0.5))\n",
        "print(cosine)"
      ],
      "execution_count": 11,
      "outputs": [
        {
          "output_type": "stream",
          "text": [
            "[nltk_data] Downloading package punkt to /root/nltk_data...\n",
            "[nltk_data]   Package punkt is already up-to-date!\n",
            "[nltk_data] Downloading package stopwords to /root/nltk_data...\n",
            "[nltk_data]   Package stopwords is already up-to-date!\n",
            "Original Data:\n",
            " Gokul is a data-scientist.I am good*from india.he play cricket \n",
            " Sachin is a cricket-batsman.He is good&&from india\n",
            "After removing special chars:\n",
            " gokul is a data scientist i am good from india he play cricket \n",
            " sachin is a cricket batsman he is good from india\n",
            "After tokenizing X:\n",
            " ['gokul', 'is', 'a', 'data', 'scientist', 'i', 'am', 'good', 'from', 'india', 'he', 'play', 'cricket']\n",
            "After tokenizing Y:\n",
            " ['sachin', 'is', 'a', 'cricket', 'batsman', 'he', 'is', 'good', 'from', 'india']\n",
            "After removing stop words in X:\n",
            " {'scientist', 'play', 'india', 'cricket', 'data', 'good', 'gokul'}\n",
            "After removing stop words in Y:\n",
            " {'sachin', 'batsman', 'india', 'cricket', 'good'}\n",
            "RVECTOR:\n",
            " {'scientist', 'sachin', 'batsman', 'play', 'india', 'cricket', 'data', 'good', 'gokul'}\n",
            "[1, 0, 0, 1, 1, 1, 1, 1, 1]\n",
            "[0, 1, 1, 0, 1, 1, 0, 1, 0]\n",
            "C now: 0\n",
            "C now: 0\n",
            "C now: 0\n",
            "C now: 0\n",
            "C now: 1\n",
            "C now: 2\n",
            "C now: 2\n",
            "C now: 3\n",
            "C now: 3\n",
            "Final C: 3\n",
            "7\n",
            "5.916079783099616\n",
            "0.50709255283711\n"
          ],
          "name": "stdout"
        }
      ]
    },
    {
      "cell_type": "code",
      "metadata": {
        "id": "ijkiRzuesZ3H",
        "colab_type": "code",
        "outputId": "4aa719dc-5068-4f1c-b9af-d7e13e228a78",
        "colab": {
          "base_uri": "https://localhost:8080/",
          "height": 33
        }
      },
      "source": [
        ""
      ],
      "execution_count": 0,
      "outputs": [
        {
          "output_type": "execute_result",
          "data": {
            "text/plain": [
              "5.0"
            ]
          },
          "metadata": {
            "tags": []
          },
          "execution_count": 156
        }
      ]
    },
    {
      "cell_type": "code",
      "metadata": {
        "id": "2u39aj-OKdrX",
        "colab_type": "code",
        "outputId": "cbbfa51e-8f3d-496f-9e5b-68efab550cb4",
        "colab": {
          "base_uri": "https://localhost:8080/",
          "height": 50
        }
      },
      "source": [
        "x=\"Gokul is a data-scientist\"\n",
        "y=\n",
        "X_list = word_tokenize(X)  \n",
        "Y_list = word_tokenize(Y) \n",
        "    \n",
        "# sw contains the list of stopwords \n",
        "sw = stopwords.words('english')  \n",
        "l1 =[];l2 =[] \n",
        "  \n",
        "# remove stop words from string \n",
        "X_set = {w for w in X_list if not w in sw}   # \n",
        "Y_set = {w for w in Y_list if not w in sw}   # \n",
        "\n",
        "  \n",
        "# form a set containing keywords of both strings  \n",
        "rvector = X_set.union(Y_set)  \n",
        "for w in rvector: \n",
        "    if w in X_set: l1.append(1) # create a vector \n",
        "    else: l1.append(0) \n",
        "    if w in Y_set: l2.append(1) \n",
        "    else: l2.append(0) \n",
        "c = 0\n",
        "    \n",
        "# cosine formula  \n",
        "for i in range(len(rvector)): \n",
        "        c+= l1[i]*l2[i] \n",
        "cosine = c / float((sum(l1)*sum(l2))**0.5) \n",
        "return(cosine,X_set,Y_set)"
      ],
      "execution_count": 0,
      "outputs": [
        {
          "output_type": "execute_result",
          "data": {
            "text/plain": [
              "array([0.2581989 , 0.3651484 , 0.4472136 , 0.91287094, 0.        ,\n",
              "       0.        , 0.        , 0.        , 0.        ], dtype=float32)"
            ]
          },
          "metadata": {
            "tags": []
          },
          "execution_count": 53
        }
      ]
    },
    {
      "cell_type": "code",
      "metadata": {
        "id": "K5BixRcN62OB",
        "colab_type": "code",
        "colab": {}
      },
      "source": [
        "#Normal Cosine Similarity"
      ],
      "execution_count": 0,
      "outputs": []
    },
    {
      "cell_type": "code",
      "metadata": {
        "id": "T5OCOyRa693C",
        "colab_type": "code",
        "outputId": "66abe24d-19b6-4022-d6bb-27e781d930f7",
        "colab": {
          "base_uri": "https://localhost:8080/",
          "height": 87
        }
      },
      "source": [
        "import nltk \n",
        "from nltk.corpus import stopwords \n",
        "from nltk.tokenize import word_tokenize \n",
        "nltk.download('punkt')\n",
        "nltk.download('stopwords')\n",
        "  \n",
        "# X = input(\"Enter first string: \").lower() \n",
        "# Y = input(\"Enter second string: \").lower() \n",
        "\n",
        "  \n",
        "def find_cosine_similarity(X,Y):\n",
        "\n",
        "  #Removing Special Charecters\n",
        "  X=re.sub('[^A-Za-z0-9]+', ' ', X)\n",
        "  Y=re.sub('[^A-Za-z0-9]+', ' ', Y)\n",
        "\n",
        "  # tokenization \n",
        "  X_list = word_tokenize(X)  \n",
        "  Y_list = word_tokenize(Y) \n",
        "    \n",
        "  # sw contains the list of stopwords \n",
        "  sw = stopwords.words('english')  \n",
        "  l1 =[];l2 =[] \n",
        "    \n",
        "  # remove stop words from string \n",
        "  X_set = {w for w in X_list if not w in sw}   # \n",
        "  Y_set = {w for w in Y_list if not w in sw}   # \n",
        "  \n",
        "    \n",
        "  # form a set containing keywords of both strings  \n",
        "  rvector = X_set.union(Y_set)  \n",
        "  for w in rvector: \n",
        "      if w in X_set: l1.append(1) # create a vector \n",
        "      else: l1.append(0) \n",
        "      if w in Y_set: l2.append(1) \n",
        "      else: l2.append(0) \n",
        "  c = 0\n",
        "    \n",
        "  # cosine formula  \n",
        "  for i in range(len(rvector)): \n",
        "          c+= l1[i]*l2[i] \n",
        "  cosine = c / float((sum(l1)*sum(l2))**0.5) \n",
        "  return(cosine,c)\n",
        "\n",
        "\n",
        "  #print(\"similarity: \", cosine) "
      ],
      "execution_count": 7,
      "outputs": [
        {
          "output_type": "stream",
          "text": [
            "[nltk_data] Downloading package punkt to /root/nltk_data...\n",
            "[nltk_data]   Package punkt is already up-to-date!\n",
            "[nltk_data] Downloading package stopwords to /root/nltk_data...\n",
            "[nltk_data]   Package stopwords is already up-to-date!\n"
          ],
          "name": "stdout"
        }
      ]
    },
    {
      "cell_type": "code",
      "metadata": {
        "id": "YYea3vi6RBdM",
        "colab_type": "code",
        "colab": {}
      },
      "source": [
        ""
      ],
      "execution_count": 0,
      "outputs": []
    },
    {
      "cell_type": "code",
      "metadata": {
        "id": "Wox_8dzB70Fl",
        "colab_type": "code",
        "outputId": "379ec81f-375d-4e89-bdb0-7d0209300637",
        "colab": {
          "base_uri": "https://localhost:8080/",
          "height": 34
        }
      },
      "source": [
        "X =\"I lights movie out lights\"\n",
        "Y =\"Lights out is a horror movie lights\"\n",
        "find_cosine_similarity(X.lower(),Y.lower())"
      ],
      "execution_count": 10,
      "outputs": [
        {
          "output_type": "execute_result",
          "data": {
            "text/plain": [
              "(0.8164965809277261, 2)"
            ]
          },
          "metadata": {
            "tags": []
          },
          "execution_count": 10
        }
      ]
    },
    {
      "cell_type": "code",
      "metadata": {
        "id": "9Y4zvMYV9x2E",
        "colab_type": "code",
        "outputId": "21b101f0-072a-4403-9b56-2eef5c568c3b",
        "colab": {
          "base_uri": "https://localhost:8080/",
          "height": 33
        }
      },
      "source": [
        "#Small Football text vs Large Text\n",
        "\n",
        "file1=open(\"drive/My Drive/Colab Notebooks/cosine/football1.txt\")\n",
        "file2=open(\"drive/My Drive/Colab Notebooks/cosine/football2_big.txt\")\n",
        "\n",
        "football_small=file1.read()\n",
        "football_big=file2.read()\n",
        "\n",
        "find_cosine_similarity(football_small.lower(),football_big.lower())\n",
        "#With spl:0.12805131275897555"
      ],
      "execution_count": 0,
      "outputs": [
        {
          "output_type": "execute_result",
          "data": {
            "text/plain": [
              "(0.12805131275897555, 40)"
            ]
          },
          "metadata": {
            "tags": []
          },
          "execution_count": 163
        }
      ]
    },
    {
      "cell_type": "code",
      "metadata": {
        "id": "3gzHgvwa_wnM",
        "colab_type": "code",
        "outputId": "ddf479a1-6fe3-49aa-d7f3-1901c2651ee3",
        "colab": {
          "base_uri": "https://localhost:8080/",
          "height": 33
        }
      },
      "source": [
        "#Large Football Text vs different Football articla on worldcup\n",
        "\n",
        "file1=open(\"drive/My Drive/Colab Notebooks/cosine/football3_worldcup.txt\")\n",
        "file2=open(\"drive/My Drive/Colab Notebooks/cosine/football2_big.txt\")\n",
        "\n",
        "football_small=file1.read()\n",
        "football_big=file2.read()\n",
        "\n",
        "find_cosine_similarity(football_small.lower(),football_big.lower())\n",
        "#Spl:0.10323111184587395"
      ],
      "execution_count": 0,
      "outputs": [
        {
          "output_type": "execute_result",
          "data": {
            "text/plain": [
              "(0.1187975069305419, 32)"
            ]
          },
          "metadata": {
            "tags": []
          },
          "execution_count": 164
        }
      ]
    },
    {
      "cell_type": "code",
      "metadata": {
        "id": "5ZwpqedGCKSI",
        "colab_type": "code",
        "outputId": "66eee2e2-e4ae-4bbd-96d9-bd0e2b8e2fb5",
        "colab": {
          "base_uri": "https://localhost:8080/",
          "height": 33
        }
      },
      "source": [
        "#Comparing small article of football with a random worldcup football article\n",
        "\n",
        "file1=open(\"drive/My Drive/Colab Notebooks/cosine/football3_worldcup.txt\")\n",
        "file2=open(\"drive/My Drive/Colab Notebooks/cosine/football1.txt\")\n",
        "\n",
        "football_small=file1.read()\n",
        "football_big=file2.read()\n",
        "\n",
        "find_cosine_similarity(football_small.lower(),football_big.lower())\n",
        "#spl:0.10749499321525051"
      ],
      "execution_count": 0,
      "outputs": [
        {
          "output_type": "execute_result",
          "data": {
            "text/plain": [
              "(0.11398436474459342, 23)"
            ]
          },
          "metadata": {
            "tags": []
          },
          "execution_count": 165
        }
      ]
    },
    {
      "cell_type": "code",
      "metadata": {
        "id": "Ih1G0CE9CoMU",
        "colab_type": "code",
        "outputId": "5bb3c25f-b494-4634-ff2c-04bc7973768a",
        "colab": {
          "base_uri": "https://localhost:8080/",
          "height": 33
        }
      },
      "source": [
        "#basic Football vs Flowers - Before special chars\n",
        "\n",
        "file1=open(\"drive/My Drive/Colab Notebooks/cosine/flowers1.txt\")\n",
        "file2=open(\"drive/My Drive/Colab Notebooks/cosine/football1.txt\")\n",
        "\n",
        "football_small=file1.read()\n",
        "football_big=file2.read()\n",
        "\n",
        "find_cosine_similarity(football_small.lower(),football_big.lower())"
      ],
      "execution_count": 0,
      "outputs": [
        {
          "output_type": "execute_result",
          "data": {
            "text/plain": [
              "0.0773492468153762"
            ]
          },
          "metadata": {
            "tags": []
          },
          "execution_count": 87
        }
      ]
    },
    {
      "cell_type": "code",
      "metadata": {
        "id": "XJgaSCE_YKJx",
        "colab_type": "code",
        "outputId": "143e3bbd-4f50-47b0-b91a-9be7fa120b1a",
        "colab": {
          "base_uri": "https://localhost:8080/",
          "height": 33
        }
      },
      "source": [
        "#basic Football vs Flowers after special chars\n",
        "\n",
        "file1=open(\"drive/My Drive/Colab Notebooks/cosine/flowers1.txt\")\n",
        "file2 =open(\"drive/My Drive/Colab Notebooks/cosine/football1.txt\")\n",
        "\n",
        "football_small=file1.read()\n",
        "football_big=file2.read()\n",
        "\n",
        "find_cosine_similarity(football_small.lower(),football_big.lower())\n",
        "#With spl: 0.06726727939963124"
      ],
      "execution_count": 0,
      "outputs": [
        {
          "output_type": "execute_result",
          "data": {
            "text/plain": [
              "(0.06726727939963124, 18)"
            ]
          },
          "metadata": {
            "tags": []
          },
          "execution_count": 166
        }
      ]
    },
    {
      "cell_type": "code",
      "metadata": {
        "id": "Pwch9y5pDAMc",
        "colab_type": "code",
        "outputId": "bf1f81df-722b-4bc3-ebf4-c4a77f68f3ea",
        "colab": {
          "base_uri": "https://localhost:8080/",
          "height": 33
        }
      },
      "source": [
        "#big Football vs Flowers\n",
        "\n",
        "file1=open(\"drive/My Drive/Colab Notebooks/cosine/flowers1.txt\")\n",
        "file2=open(\"drive/My Drive/Colab Notebooks/cosine/football2_big.txt\")\n",
        "\n",
        "football_small=file1.read()\n",
        "football_big=file2.read()\n",
        "\n",
        "find_cosine_similarity(football_small.lower(),football_big.lower())\n",
        "#with spl: 0.08059754438069275"
      ],
      "execution_count": 0,
      "outputs": [
        {
          "output_type": "execute_result",
          "data": {
            "text/plain": [
              "(0.072785456007562, 26)"
            ]
          },
          "metadata": {
            "tags": []
          },
          "execution_count": 168
        }
      ]
    },
    {
      "cell_type": "code",
      "metadata": {
        "id": "ZFfeD-1_DIe9",
        "colab_type": "code",
        "outputId": "3fa59503-ab38-4d24-9d97-e61c4df33b7a",
        "colab": {
          "base_uri": "https://localhost:8080/",
          "height": 33
        }
      },
      "source": [
        "#Worldcup footbal vs flowers\n",
        "\n",
        "file1=open(\"drive/My Drive/Colab Notebooks/cosine/flowers1.txt\")\n",
        "file2=open(\"drive/My Drive/Colab Notebooks/cosine/football3_worldcup.txt\")\n",
        "\n",
        "football_small=file1.read()\n",
        "football_big=file2.read()\n",
        "\n",
        "find_cosine_similarity(football_small.lower(),football_big.lower())\n",
        "#Spl:0.07580375385272424"
      ],
      "execution_count": 0,
      "outputs": [
        {
          "output_type": "execute_result",
          "data": {
            "text/plain": [
              "(0.07367388706141537, 17)"
            ]
          },
          "metadata": {
            "tags": []
          },
          "execution_count": 167
        }
      ]
    },
    {
      "cell_type": "code",
      "metadata": {
        "id": "Wjd5yhUTDhhF",
        "colab_type": "code",
        "outputId": "eb4675fa-4c47-4467-a1dd-996fb000b681",
        "colab": {
          "base_uri": "https://localhost:8080/",
          "height": 33
        }
      },
      "source": [
        "#flower vs flowers2_roses\n",
        "\n",
        "file1=open(\"drive/My Drive/Colab Notebooks/cosine/flowers1.txt\")\n",
        "file2=open(\"drive/My Drive/Colab Notebooks/cosine/flowers2_roses.txt\")\n",
        "\n",
        "football_small=file1.read()\n",
        "football_big=file2.read()\n",
        "\n",
        "find_cosine_similarity(football_small.lower(),football_big.lower())\n",
        "#spl:0.12241861118974807"
      ],
      "execution_count": 0,
      "outputs": [
        {
          "output_type": "execute_result",
          "data": {
            "text/plain": [
              "(0.12105782480647682, 36)"
            ]
          },
          "metadata": {
            "tags": []
          },
          "execution_count": 169
        }
      ]
    },
    {
      "cell_type": "code",
      "metadata": {
        "id": "E5AvL1SAF7aI",
        "colab_type": "code",
        "outputId": "fa82c00c-83c5-4c73-e1a1-1517866153df",
        "colab": {
          "base_uri": "https://localhost:8080/",
          "height": 33
        }
      },
      "source": [
        "\n",
        "file1=open(\"drive/My Drive/Colab Notebooks/cosine/sachin_big.txt\")\n",
        "file2=open(\"drive/My Drive/Colab Notebooks/cosine/sachin_big1.txt\")\n",
        "\n",
        "file1_content=file1.read()\n",
        "file2_content=file2.read()\n",
        "\n",
        "find_cosine_similarity(file1_content.lower(),file2_content.lower())\n",
        "#0.22954203170599635"
      ],
      "execution_count": 0,
      "outputs": [
        {
          "output_type": "execute_result",
          "data": {
            "text/plain": [
              "(0.2222222222222222, 112)"
            ]
          },
          "metadata": {
            "tags": []
          },
          "execution_count": 170
        }
      ]
    },
    {
      "cell_type": "code",
      "metadata": {
        "id": "5DxJ6LbwHvV7",
        "colab_type": "code",
        "outputId": "389f82e6-38f2-4498-f6f0-3f099ce621be",
        "colab": {
          "base_uri": "https://localhost:8080/",
          "height": 33
        }
      },
      "source": [
        "#Sachinn vs Rajini\n",
        "\n",
        "file1=open(\"drive/My Drive/Colab Notebooks/cosine/sachin_big.txt\")\n",
        "file2=open(\"drive/My Drive/Colab Notebooks/cosine/Rajini1.txt\")\n",
        "\n",
        "\n",
        "file1_content=file1.read()\n",
        "file2_content=file2.read()\n",
        "\n",
        "find_cosine_similarity(file1_content.lower(),file2_content.lower())\n",
        "#0.16755883452526812"
      ],
      "execution_count": 0,
      "outputs": [
        {
          "output_type": "execute_result",
          "data": {
            "text/plain": [
              "(0.16266409380065522, 76)"
            ]
          },
          "metadata": {
            "tags": []
          },
          "execution_count": 177
        }
      ]
    },
    {
      "cell_type": "code",
      "metadata": {
        "id": "5sC5zN3lH-SG",
        "colab_type": "code",
        "outputId": "f9d29948-b962-4ab3-dd36-7b4a53bcee99",
        "colab": {
          "base_uri": "https://localhost:8080/",
          "height": 33
        }
      },
      "source": [
        "#Rajini vs rose flowers\n",
        "\n",
        "file1=open(\"drive/My Drive/Colab Notebooks/cosine/flowers2_roses.txt\")\n",
        "file2=open(\"drive/My Drive/Colab Notebooks/cosine/Rajini1.txt\")\n",
        "\n",
        "file1_content=file1.read()\n",
        "file2_content=file2.read()\n",
        "\n",
        "find_cosine_similarity(file1_content.lower(),file2_content.lower())\n",
        "0.08909100889907413"
      ],
      "execution_count": 0,
      "outputs": [
        {
          "output_type": "execute_result",
          "data": {
            "text/plain": [
              "0.08909100889907413"
            ]
          },
          "metadata": {
            "tags": []
          },
          "execution_count": 176
        }
      ]
    },
    {
      "cell_type": "code",
      "metadata": {
        "id": "PBKUxeueIHR1",
        "colab_type": "code",
        "outputId": "714d9e48-c528-47fc-89cc-47dff75e417e",
        "colab": {
          "base_uri": "https://localhost:8080/",
          "height": 472
        }
      },
      "source": [
        "#Sachin vs rose flowers\n",
        "\n",
        "file1=open(\"drive/My Drive/Colab Notebooks/cosine/flowers2_roses.txt\")\n",
        "file2=open(\"drive/My Drive/Colab Notebooks/cosine/sachin_big.txt\")\n",
        "\n",
        "file1_content=file1.read()\n",
        "file2_content=file2.read()\n",
        "\n",
        "similarity,X_set,Y_set=find_cosine_similarity(file1_content.lower(),file2_content.lower())\n",
        "print(\"Similarity Percentage:{similarity1}%\".format(similarity1=similarity*100))\n",
        "X_set.intersection(Y_set)"
      ],
      "execution_count": 0,
      "outputs": [
        {
          "output_type": "stream",
          "text": [
            "Similarity Percentage:6.566447673633801%\n"
          ],
          "name": "stdout"
        },
        {
          "output_type": "execute_result",
          "data": {
            "text/plain": [
              "{'(',\n",
              " ')',\n",
              " ',',\n",
              " '.',\n",
              " 'across',\n",
              " 'actually',\n",
              " 'also',\n",
              " 'appears',\n",
              " 'come',\n",
              " 'different',\n",
              " 'difficult',\n",
              " 'early',\n",
              " 'first',\n",
              " 'five',\n",
              " 'get',\n",
              " 'great',\n",
              " 'high',\n",
              " 'leaves',\n",
              " 'new',\n",
              " 'north',\n",
              " 'number',\n",
              " 'often',\n",
              " 'probably',\n",
              " 'read',\n",
              " 'sometimes',\n",
              " 'typically',\n",
              " 'used'}"
            ]
          },
          "metadata": {
            "tags": []
          },
          "execution_count": 112
        }
      ]
    },
    {
      "cell_type": "code",
      "metadata": {
        "id": "ywbOJV85MzgJ",
        "colab_type": "code",
        "outputId": "37624421-a40a-4f4e-ccd0-1374187ad4e5",
        "colab": {
          "base_uri": "https://localhost:8080/",
          "height": 456
        }
      },
      "source": [
        ""
      ],
      "execution_count": 0,
      "outputs": [
        {
          "output_type": "execute_result",
          "data": {
            "text/plain": [
              "{'(',\n",
              " ')',\n",
              " ',',\n",
              " '.',\n",
              " 'across',\n",
              " 'actually',\n",
              " 'also',\n",
              " 'appears',\n",
              " 'come',\n",
              " 'different',\n",
              " 'difficult',\n",
              " 'early',\n",
              " 'first',\n",
              " 'five',\n",
              " 'get',\n",
              " 'great',\n",
              " 'high',\n",
              " 'leaves',\n",
              " 'new',\n",
              " 'north',\n",
              " 'number',\n",
              " 'often',\n",
              " 'probably',\n",
              " 'read',\n",
              " 'sometimes',\n",
              " 'typically',\n",
              " 'used'}"
            ]
          },
          "metadata": {
            "tags": []
          },
          "execution_count": 110
        }
      ]
    },
    {
      "cell_type": "code",
      "metadata": {
        "id": "UCitmz1TIPcA",
        "colab_type": "code",
        "outputId": "ca91fb9c-35bd-4fd4-9b60-78d611ab6fef",
        "colab": {
          "base_uri": "https://localhost:8080/",
          "height": 277
        }
      },
      "source": [
        "find_cosine_similarity(\"gokul from chennai. chennai is a nice city. One of the old city in india\",\"bhuvi from chennai\")"
      ],
      "execution_count": 0,
      "outputs": [
        {
          "output_type": "execute_result",
          "data": {
            "text/plain": [
              "(0.3086066999241838,\n",
              " {'.',\n",
              "  'One',\n",
              "  'a',\n",
              "  'chennai',\n",
              "  'city',\n",
              "  'from',\n",
              "  'gokul',\n",
              "  'in',\n",
              "  'india',\n",
              "  'is',\n",
              "  'nice',\n",
              "  'of',\n",
              "  'old',\n",
              "  'the'},\n",
              " {'bhuvi', 'chennai', 'from'})"
            ]
          },
          "metadata": {
            "tags": []
          },
          "execution_count": 116
        }
      ]
    },
    {
      "cell_type": "code",
      "metadata": {
        "id": "Uut9MObzPj7T",
        "colab_type": "code",
        "outputId": "d989df5c-3dd1-4ea8-ebc2-c1ddb64482d3",
        "colab": {
          "base_uri": "https://localhost:8080/",
          "height": 66
        }
      },
      "source": [
        "find_cosine_similarity(\"gokul from chennai. chennai is a nice city. One of the old city in india\",\"bhuvi from chennai india city\")"
      ],
      "execution_count": 0,
      "outputs": [
        {
          "output_type": "execute_result",
          "data": {
            "text/plain": [
              "(0.5303300858899106,\n",
              " {'.', 'One', 'chennai', 'city', 'gokul', 'india', 'nice', 'old'},\n",
              " {'bhuvi', 'chennai', 'city', 'india'})"
            ]
          },
          "metadata": {
            "tags": []
          },
          "execution_count": 123
        }
      ]
    },
    {
      "cell_type": "code",
      "metadata": {
        "id": "TsyNXLYFIoua",
        "colab_type": "code",
        "colab": {}
      },
      "source": [
        "import pandas as pd\n"
      ],
      "execution_count": 0,
      "outputs": []
    },
    {
      "cell_type": "code",
      "metadata": {
        "id": "S7zNgGZ24A7H",
        "colab_type": "code",
        "outputId": "d28795e8-4331-48cc-c2d1-962bf7f639c6",
        "colab": {
          "base_uri": "https://localhost:8080/",
          "height": 288
        }
      },
      "source": [
        "df=pd.read_excel(\"drive/My Drive/Colab Notebooks/cosine/IQA_IQA_Execution_Dump_Jul-Oct19.xlsx\",sheet_name='Data')\n",
        "df.head()"
      ],
      "execution_count": 0,
      "outputs": [
        {
          "output_type": "execute_result",
          "data": {
            "text/html": [
              "<div>\n",
              "<style scoped>\n",
              "    .dataframe tbody tr th:only-of-type {\n",
              "        vertical-align: middle;\n",
              "    }\n",
              "\n",
              "    .dataframe tbody tr th {\n",
              "        vertical-align: top;\n",
              "    }\n",
              "\n",
              "    .dataframe thead th {\n",
              "        text-align: right;\n",
              "    }\n",
              "</style>\n",
              "<table border=\"1\" class=\"dataframe\">\n",
              "  <thead>\n",
              "    <tr style=\"text-align: right;\">\n",
              "      <th></th>\n",
              "      <th>Folder 1</th>\n",
              "      <th>Folder 2</th>\n",
              "      <th>Folder 3</th>\n",
              "      <th>Folder 4</th>\n",
              "      <th>Testset</th>\n",
              "      <th>Test Name</th>\n",
              "      <th>Run Name</th>\n",
              "      <th>Status</th>\n",
              "      <th>Duration(In Seconds)</th>\n",
              "      <th>No of Steps</th>\n",
              "      <th>Exec Date</th>\n",
              "      <th>Exec Time</th>\n",
              "      <th>Tester</th>\n",
              "      <th>Defect ID</th>\n",
              "      <th>Defect: Summary</th>\n",
              "      <th>Defect Status</th>\n",
              "      <th>Type</th>\n",
              "      <th>Automation? (Y/N)</th>\n",
              "    </tr>\n",
              "  </thead>\n",
              "  <tbody>\n",
              "    <tr>\n",
              "      <th>0</th>\n",
              "      <td>2019 July Release</td>\n",
              "      <td>Continuous Regression</td>\n",
              "      <td>Automation Regression</td>\n",
              "      <td>NCPDP Regression</td>\n",
              "      <td>CPM</td>\n",
              "      <td>CR 414_US18310_TC001_Rule 94_RPH_without_Quali...</td>\n",
              "      <td>Run_6-12_22-28-26</td>\n",
              "      <td>Passed</td>\n",
              "      <td>809</td>\n",
              "      <td>4</td>\n",
              "      <td>06/12/2019</td>\n",
              "      <td>22:50:49</td>\n",
              "      <td>vinitha x chandrasekar</td>\n",
              "      <td>NaN</td>\n",
              "      <td>NaN</td>\n",
              "      <td>NaN</td>\n",
              "      <td>Automation</td>\n",
              "      <td>Y</td>\n",
              "    </tr>\n",
              "    <tr>\n",
              "      <th>1</th>\n",
              "      <td>2019 July Release</td>\n",
              "      <td>Continuous Regression</td>\n",
              "      <td>Automation Regression</td>\n",
              "      <td>NCPDP Regression</td>\n",
              "      <td>CPM</td>\n",
              "      <td>CR100_TC01_Rule_96_Active Registered_Nurse__NP...</td>\n",
              "      <td>Run_6-12_3-54-41</td>\n",
              "      <td>Passed</td>\n",
              "      <td>1329</td>\n",
              "      <td>11</td>\n",
              "      <td>06/12/2019</td>\n",
              "      <td>05:43:37</td>\n",
              "      <td>sounthariya x palanisamy</td>\n",
              "      <td>NaN</td>\n",
              "      <td>NaN</td>\n",
              "      <td>NaN</td>\n",
              "      <td>Automation</td>\n",
              "      <td>Y</td>\n",
              "    </tr>\n",
              "    <tr>\n",
              "      <th>2</th>\n",
              "      <td>2019 July Release</td>\n",
              "      <td>Continuous Regression</td>\n",
              "      <td>Automation Regression</td>\n",
              "      <td>NCPDP Regression</td>\n",
              "      <td>CPM</td>\n",
              "      <td>CR37_TC01_Rule_69_Licensetype_CNS_Rx_Authority</td>\n",
              "      <td>Run_6-12_4-16-11</td>\n",
              "      <td>Not Completed</td>\n",
              "      <td>667</td>\n",
              "      <td>11</td>\n",
              "      <td>06/12/2019</td>\n",
              "      <td>04:27:19</td>\n",
              "      <td>sounthariya x palanisamy</td>\n",
              "      <td>NaN</td>\n",
              "      <td>NaN</td>\n",
              "      <td>NaN</td>\n",
              "      <td>Automation</td>\n",
              "      <td>Y</td>\n",
              "    </tr>\n",
              "    <tr>\n",
              "      <th>3</th>\n",
              "      <td>2019 July Release</td>\n",
              "      <td>Continuous Regression</td>\n",
              "      <td>Automation Regression</td>\n",
              "      <td>NCPDP Regression</td>\n",
              "      <td>CPM</td>\n",
              "      <td>CR37_TC01_Rule_69_Licensetype_CNS_Rx_Authority</td>\n",
              "      <td>Run_6-12_5-44-1</td>\n",
              "      <td>Passed</td>\n",
              "      <td>1416</td>\n",
              "      <td>11</td>\n",
              "      <td>06/12/2019</td>\n",
              "      <td>06:07:39</td>\n",
              "      <td>sounthariya x palanisamy</td>\n",
              "      <td>NaN</td>\n",
              "      <td>NaN</td>\n",
              "      <td>NaN</td>\n",
              "      <td>Automation</td>\n",
              "      <td>Y</td>\n",
              "    </tr>\n",
              "    <tr>\n",
              "      <th>4</th>\n",
              "      <td>2019 July Release</td>\n",
              "      <td>Continuous Regression</td>\n",
              "      <td>Automation Regression</td>\n",
              "      <td>NCPDP Regression</td>\n",
              "      <td>CPM</td>\n",
              "      <td>CR412_US18312_TC021_Rule93_Non KP_DHG License_...</td>\n",
              "      <td>Run_6-12_22-4-46</td>\n",
              "      <td>Passed</td>\n",
              "      <td>1298</td>\n",
              "      <td>11</td>\n",
              "      <td>06/12/2019</td>\n",
              "      <td>22:26:24</td>\n",
              "      <td>vinitha x chandrasekar</td>\n",
              "      <td>NaN</td>\n",
              "      <td>NaN</td>\n",
              "      <td>NaN</td>\n",
              "      <td>Automation</td>\n",
              "      <td>Y</td>\n",
              "    </tr>\n",
              "  </tbody>\n",
              "</table>\n",
              "</div>"
            ],
            "text/plain": [
              "            Folder 1               Folder 2  ...        Type Automation? (Y/N)\n",
              "0  2019 July Release  Continuous Regression  ...  Automation                 Y\n",
              "1  2019 July Release  Continuous Regression  ...  Automation                 Y\n",
              "2  2019 July Release  Continuous Regression  ...  Automation                 Y\n",
              "3  2019 July Release  Continuous Regression  ...  Automation                 Y\n",
              "4  2019 July Release  Continuous Regression  ...  Automation                 Y\n",
              "\n",
              "[5 rows x 18 columns]"
            ]
          },
          "metadata": {
            "tags": []
          },
          "execution_count": 186
        }
      ]
    },
    {
      "cell_type": "code",
      "metadata": {
        "id": "QyaX59cB496W",
        "colab_type": "code",
        "colab": {}
      },
      "source": [
        ""
      ],
      "execution_count": 0,
      "outputs": []
    },
    {
      "cell_type": "code",
      "metadata": {
        "id": "4D9v5gE64cP_",
        "colab_type": "code",
        "outputId": "981d542a-3899-4608-f71c-c8cae41df959",
        "colab": {
          "base_uri": "https://localhost:8080/",
          "height": 86
        }
      },
      "source": [
        "drugs_cases=df[df[\"Testset\"]==\"Drugs\"][\"Test Name\"]\n",
        "list1=list(drugs_cases.get_values())\n",
        "drugs_cases_all=\" \".join(list1)\n",
        "print(drugs_cases_all)"
      ],
      "execution_count": 0,
      "outputs": [
        {
          "output_type": "stream",
          "text": [
            "Defect_12964_Initial_Fill_Autotransfer_Refill_Rx_twice Defect_Retest_12810_Scenario 2 Drug_Clinical_Regression_TC101_DUR_Review Drug_Clinical_Regression_TC102_KPHC_Allergy Drug_Clinical_Regression_TC111_Region_Specific_Drug_Schedule Drug_Clinical_Regression_TC114_DV_Check_Refill_SpecificDrug Drug_Clinical_Regression_TC116_KPHC_Dose_Unit_Multiple_SigText_EZRAR Drug_Clinical_Regression_TC119_Allergy_review Drug_Clinical_Regression_TC122_Discrete_Pt_Friendly SIG_RAR Drug_Clinical_Regression_TC123_Alternate_Language_Autotransfer Drug_Clinical_TC1193_US4820_Compound_EZRAR Drug_Clinical_TC1221_US4905_Pregnancy_Precaution_RefillRx Drug_Clinical_TC1340_US8029_Apostrophe_before_after_StoreB NATL_SCAL_TC0001_US11006_Cycle_11_EPS_Order_New_Rx_Change_NDC_at_FILL_Different_Manufacturer NATL_SCAL_TC0002_US11006_Cycle_11_EPS_Order_New_Rx_Change_NDC_at_FILL_Different_Drug NATL_SCAL_TC0008_US11006_Cycle_11_EPS_Order_System_Renewed_Rx_Change_NDC_at_FILL_Different_Drug NATL_SCAL_TC0008_US11006_Cycle_11_EPS_Order_System_Renewed_Rx_Change_NDC_at_FILL_Different_Drug NATL_SCAL_TC0008_US11006_Cycle_11_EPS_Order_System_Renewed_Rx_Change_NDC_at_FILL_Different_Drug NATL_SCAL_TC0010_US11006_Cycle_11_EPS_Order_Manual_Renewed_Rx_Change_NDC_at_FILL_Different_Manufacturer NATL_SCAL_TC0012_US11006_Cycle_11_EPS_Order_Manual_Renewed_Rx_Change_NDC_at_FILL_Different_Pack_Size NATL_SCAL_TC0014_US11006_Cycle_11_EPS_Order_Partial_and_Completion_Fill_Rx_Change_NDC_at_FILL_Different_Manufacturer NATL_SCAL_TC0016_US11006_Cycle_11_EPS_Order_Autotransfered_Rx_Change_NDC_at_FILL_Different_Manufacturer NATL_SCAL_TC0027_US11006_Cycle_11_EPS_Order_Refill_Rx_Change_NDC_at_FILL_Different_Manufacturer_Re-adjudicate TP Fails NATL_SCAL_TC0029_US11006_Cycle_11_EPS_Order_New_Rx_Change_NDC_at_FILL_Different_Manufacturer_Grouping at Fill NATL_SCAL_TC0035_US11006_Cycle_11_EPS_Order_Reject_Change_Fill_Change_NDC NATL_SCAL_TC0041_US11006_Cycle_11_EPS_Order_New_Rx_Change_NDC_at_FILL_Different_Manufacturer_DUR Review_OFF NATL_SCAL_TC0045_US11006_Cycle_11_EPS_Order_Profiled_Rx_Change_NDC_at_FILL_Different_PackSize NCALR1_Drug_Clinical_TC1091_US3836_NKDI TC04_KPHC_ADD_Allergy_MULTIPLE_PAR_CLASS_TARTRAZINE CLASS (NOT SCREENED) TC08_KPHC_ADD_Allergy_DUR_CUSTOM_ALLERGEN_CALCIUM CHANNEL BLOCKERS UAT1_4_40001_CO_ALLERGY UAT1_4_40002_CO_ALLERGY UAT1_4_40003_CO_ALLERGY UAT1_4_40004_CO_ALLERGY UAT1_4_40005_CO_ALLERGY UAT1_4_40006_CO_ALLERGY UAT1_4_40007_CO_ALLERGY UAT1_4_40008_CO_ALLERGY UAT1_4_40009_CO_ALLERGY UAT1_4_40010_CO_ALLERGY UAT1_TC_6_MAS_Adding Allergy in KPHC and verifying it in ePIMS UAT1_TC_64_MAS_Update allergen drug class in KPHC with new severity and comments UAT1_TC_65_MAS_Delete drug class allergen in HC UAT1_TC0033_MAS_Add NKDA allergy at KPHC UAT1_TC0033_MAS_Add NKDA allergy at KPHC UAT2_x0001_KPHC_New Allergy_EPS _NKA UAT2_x0001_KPHC_New Allergy_EPS _NKA UAT2_x00010_Defect 18320_Store A cmpd 1_DV Edit_Cmpd 2 UAT2_x00011_Defect 23829_Store A_Cmpd 1_DV Edit Cmpd 2_Autotx Store B UAT2_x00011_Defect 23829_Store A_Cmpd 1_DV Edit Cmpd 2_Autotx Store B UAT2_x00011_Defect 24623_Cannot create new Compound in ECC UAT2_x00012_Defect 11127_Premade Cmpd_with Control Ingred_RAR UAT2_x00013_Cmpd Store A_Sold Store A_Autotx to Store B UAT2_x00014_Local made Cmpd_Renew from EPS UAT2_x00015_RAR Edit_Change Different NDC Compound UAT2_x00016_Defect 18796_OF Rx Store A_Store B_Change to Cmpd 2, then back to Cmpd 1_check Ingred List at Store A UAT2_x00016_Defect 18796_OF Rx Store A_Store B_Change to Cmpd 2, then back to Cmpd 1_check Ingred List at Store A UAT2_x00018_Deactivate Compounds for one Region and validate all stores get the info UAT2_x00019_Reactivate Compound for one region and validate all stores in region get the info UAT2_x0002_KPHC_New Allergy_EPS _existing drug allergy UAT2_x00021_Create a New Compound UAT2_x00023_Edit existing Compound with new NDC for premade UAT2_x00024_Defect 20066_MTX_PV2 UAT2_x00025_U 500 Dispense Rule_Happy Path UAT2_x00026_Regular U100 insulin_DV Edit to U500 UAT2_x00027_Hep B_Entecavir_Refill_Defect 26419 UAT2_x00028_Disallow Multi Tx_Req Written(Scheduled Rx)_Manual Tx_In Store A then Store B UAT2_x00029_Oral Chemo Rx_New_Refills require Rph Consult UAT2_x0003_KPHC_Superclass Allergy_CA Channel Blockers_prior NKA_Defect 23771 UAT2_x00030_OTC Interactional_Check DUR fires for Drug Interaction UAT2_x00031_Compound Interactional_Check DUR Fires for Drug Interaction UAT2_x00032_DUR resolved Store A_View Store B UAT2_x00033_DUR resolved Store A_after Rx autotx Store B can view Resolved UAT2_x00034_MD Overrides_DUR Age_Seen in eps UAT2_x00035_Drug_Disease Lorazepam and Asthma patient UAT2_x00036_Lactation_Critical_Benzodiazepines Diazepam UAT2_x00037_Drug_Drug Flecainide and Cipro UAT2_x00038_Pediatric DURs UAT2_x00039_Defect 18716_ECC Drug Selection Filter Changes Propagation to eps UAT2_x0004_KPHC_Superclass Allergy_Insulin_prior NKA UAT2_x00040_Defect 21599_ECC Drug Disease Precaution Filters are not Saving UAT2_x00041_Drug Disease Screening_Reported UAT2_x00042_Age dosing UAT2_x00043_Allergy_TCN rash, if pt prescribed atorvastatin and ECC Check Inactive Ingred on Yes UAT2_x00043_Allergy_TCN rash, if pt prescribed atorvastatin and ECC Check Inactive Ingred on Yes UAT2_x00044_PN-EM-Drug-DE_DV_New_Refills at NDC UAT2_x00045_PN-EM-Both DE-DV_New and Refill at GPI_Defect 24179 UAT2_x00046_PN-DOC-Drug_New only at NDC UAT2_x00047_PN-DOC-Drug_New only at GPI UAT2_x00048_TCS_Latuda UAT2_x00049_PN-EM-Methadone-GPI-Level 4 UAT2_x0005_New Cmpd Rx that patient has existing allergy to one ingred UAT2_x00050_Use Same Manuf Each Fill for Rx_Different PG UAT2_x00051_Defect 16740_Store A, Rx flagged Use the same Mfg for each fills of this Rx then Autotx Store B UAT2_x00052_Interactional NDC sent from KPHC_NDC not in Store UAT2_x00053_Keep Same Manuf_RAR_RAR Edit_Autotx UAT2_x00054_Change Fill on DAW1 Rx UAT2_x00055_Change Fill_Repacks 00179 impact on keep same manu UAT2_x00056_Renewal_Same Store_No sig change_Same PG UAT2_x00057_Renewal_Same Store_Unfriendly sig to Friendly Sig UAT2_x00058_Renewed Prescription_Consult_ECC_No UAT2_x00059_Renewed Prescription_Consult_ECC_Yes UAT2_x0006_New Cmpd Rx that patient has existing allergy to one ingred in DRUG CLASS UAT2_x00061_Change in Manuf due to change in PG flag_Same Store UAT2_x00061_Change in Manuf due to change in PG flag_Same Store UAT2_x00062_New Rx should be flagged for Rph Consult Req UAT2_x00063_PG different Store B_Autotx from Store A_Consult Req UAT2_x00063_PG different Store B_Autotx from Store A_Consult Req UAT2_x00064_Consult Notes_History UAT2_x00064_Consult Notes_History UAT2_x00065_Emergency Fill Consult Reqd UAT2_x00065_Emergency Fill Consult Reqd UAT2_x00066_Defect 16519_Imprint Incorrect_swapped UAT2_x00067_DAW1_KPHC_Change Fill UAT2_x00068_DAW1_Store A_Autotx Store B UAT2_x00069_Defect 26201_Fioricet or Primidone Autotx_Controlled Store to Non Controlled store UAT2_x0007_Removing Existing Allergy from KPHC updates eps stores UAT2_x0007_Removing Existing Allergy from KPHC updates eps stores UAT2_x00070_Multiple Imprints_Images UAT2_x00071_Rph Consult_Patient Disease UAT2_x00072_OTC Orders as Rxs UAT2_x00073_Outside Pharmacy UAT2_x00074_Interactional - include Controls with Provider not Dual Authenticated UAT2_x00075_Expired Rxs Legend, Controls, Cmpds, UAT2_x00076_EPCS provider using Dual Authentication RARs, news UAT2_x00077_Levothyroxine_Change Fill Brand_Generic UAT2_x00078_Klor clon- Change Fill UAT2_x00079_OTC Inclusion List- KPHC orders should not post interactional UAT2_x0008_Change Fill_Send down new Allergy to Drug UAT2_x0009_Cmpd Aged_OF Store A_Autotx Store B UAT2_x000UAT2_Compounds with one Controlled ingred Req Written Defect_12964_Initial_Fill_Autotransfer_Refill_Rx_twice Defect_Retest_12810_Scenario 2 Drug_Clinical_Regression_TC101_DUR_Review Drug_Clinical_Regression_TC107_Compound_Drug Drug_Clinical_Regression_TC111_Region_Specific_Drug_Schedule Drug_Clinical_Regression_TC114_DV_Check_Refill_SpecificDrug Drug_Clinical_Regression_TC116_KPHC_Dose_Unit_Multiple_SigText_EZRAR Drug_Clinical_Regression_TC118_Alternate_Language_Refill Drug_Clinical_Regression_TC118_Alternate_Language_Refill Drug_Clinical_Regression_TC118_Alternate_Language_Refill Drug_Clinical_Regression_TC119_Allergy_review Drug_Clinical_Regression_TC122_Discrete_Pt_Friendly SIG_RAR Drug_Clinical_TC1193_US4820_Compound_EZRAR Drug_Clinical_TC1195_US4820_Compound_Refill_StoreB Drug_Clinical_TC1196_US4820_Compound_RxOnFile Drug_Clinical_TC1196_US4820_Compound_RxOnFile Drug_Clinical_TC1199_US4820_NDC_Change Drug_Clinical_TC1221_US4905_Pregnancy_Precaution_RefillRx Drug_Clinical_TC1229_US8847_EPS_MDS_PN_Female _PV_New Rx Drug_Clinical_TC1333_US8873_RenalDosing Drug_Clinical_TC1340_US8029_Apostrophe_before_after_StoreB Drug_Clinical_TC1365_US9172_OnFile_RxEdit NATL_SCAL_TC0001_US11006_Cycle_11_EPS_Order_New_Rx_Change_NDC_at_FILL_Different_Manufacturer NATL_SCAL_TC0002_US11006_Cycle_11_EPS_Order_New_Rx_Change_NDC_at_FILL_Different_Drug NATL_SCAL_TC0006_US11006_Cycle_11_EPS_Order_Refill_Rx_Change_NDC_at_FILL_Different_Pack_Size NATL_SCAL_TC0007_US11006_Cycle_11_EPS_Order_System_Renewed_Rx_Change_NDC_at_FILL_Different_Manufacturer NATL_SCAL_TC0008_US11006_Cycle_11_EPS_Order_System_Renewed_Rx_Change_NDC_at_FILL_Different_Drug NATL_SCAL_TC0010_US11006_Cycle_11_EPS_Order_Manual_Renewed_Rx_Change_NDC_at_FILL_Different_Manufacturer NATL_SCAL_TC0012_US11006_Cycle_11_EPS_Order_Manual_Renewed_Rx_Change_NDC_at_FILL_Different_Pack_Size NATL_SCAL_TC0014_US11006_Cycle_11_EPS_Order_Partial_and_Completion_Fill_Rx_Change_NDC_at_FILL_Different_Manufacturer NATL_SCAL_TC0016_US11006_Cycle_11_EPS_Order_Autotransfered_Rx_Change_NDC_at_FILL_Different_Manufacturer NATL_SCAL_TC0017_US11006_Cycle_11_EPS_Order_Autotransfered_Rx_Change_NDC_at_FILL_Different_Drug NATL_SCAL_TC0022_US11006_Cycle_11_EPS_Order_Emergency_Fill_Rx_Change_NDC_at_FILL_Different_Manufacturer NATL_SCAL_TC0027_US11006_Cycle_11_EPS_Order_Refill_Rx_Change_NDC_at_FILL_Different_Manufacturer_Re-adjudicate TP Fails NATL_SCAL_TC0029_US11006_Cycle_11_EPS_Order_New_Rx_Change_NDC_at_FILL_Different_Manufacturer_Grouping at Fill NATL_SCAL_TC0041_US11006_Cycle_11_EPS_Order_New_Rx_Change_NDC_at_FILL_Different_Manufacturer_DUR Review_OFF NATL_SCAL_TC0043_US11006_Cycle_11_EPS_Order_IVR_RAR_Change_NDC_at_FILL_Different_Manufacturer NATL_SCAL_TC0045_US11006_Cycle_11_EPS_Order_Profiled_Rx_Change_NDC_at_FILL_Different_PackSize NATL_SCAL_TC0045_US11006_Cycle_11_EPS_Order_Profiled_Rx_Change_NDC_at_FILL_Different_PackSize NATL_SCAL_TC0047_US11006_Cycle_11_EPS_Order_New_Rx_Compound_Drug_Change_NDC_at_FILL_Different_Manufacturer_Ingredient NCALR1_Drug_Clinical_TC1091_US3836_NKDI NCALR1_Drug_Clinical_TC1096_US8051_SIG_Code_Built NCALR1_Drug_Clinical_TC1098_US8051_SIG_Code_StoreB NCALR1_Drug_Clinical_TC1129_US6656_Rx_Level_Refill NCALR1_Drug_Clinical_TC1134_US6656_Pt_Level_Fill_Partial_Completion NCALR1_Drug_Clinical_TC1141_US7777_EPS_Refill_PV2_StoreB NCALR1_Drug_Clinical_TC1142_US7777_EZRAR_PV2 NCALR1_Drug_Clinical_TC1142_US7777_EZRAR_PV2 ROC1_Drug_Clinical_TC1002_US7011_EPS_Allergen_description_length_StoreB SCALR2_Drug_Clinical_TC1031_US6588_EPS_CII_Drug_WrittenByPrescriber SCALR2_Drug_Clinical_TC1031_US6588_EPS_CII_Drug_WrittenByPrescriber SCALR2_Drug_Clinical_TC1047_US6588_EPS_CIII-CV_Drug_ProfiledRx_StoreB_Phone SCALR2_Drug_Clinical_TC1068_US6588_EPS_CIII-CV_Drug_Renew_CallPrescriber_Phone SCALR3_Drug_Clinical_TC1117_US5624_NDC_Selection_Refill_StoreB SCALR4_Drug_Clinical_TC1161_US9312_Rx_InclusionList_Yes_Class_OP SCALR4_Drug_Clinical_TC1161_US9312_Rx_InclusionList_Yes_Class_OP SCALR4_Drug_Clinical_TC1169_US9358_KPHC_Dose_Unit_Multiple_SigText_StoreB SCALR4_Drug_Clinical_TC1169_US9358_KPHC_Dose_Unit_Multiple_SigText_StoreB SCALR4_Drug_Clinical_TC1181_US930_NewNDC_DURs SCALR4_Drug_Clinical_TC1186_US930_SBMO SCALR4_Drug_Clinical_TC1186_US930_SBMO SCALR4_Drug_Clinical_TC1187_US930_NewGeneric_RPh_Counseling TC01_KPHC_ADD_Allergy_DUR_UNIQUE_PAR_CLASS_Antihistamine TC04_KPHC_ADD_Allergy_MULTIPLE_PAR_CLASS_TARTRAZINE CLASS (NOT SCREENED) TC08_KPHC_ADD_Allergy_DUR_CUSTOM_ALLERGEN_CALCIUM CHANNEL BLOCKERS UAT1_4_40001_CO_ALLERGY UAT2_x00010_Defect 18320_Store A cmpd 1_DV Edit_Cmpd 2 UAT2_x00011_Defect 23829_Store A_Cmpd 1_DV Edit Cmpd 2_Autotx Store B UAT2_x00016_Defect 18796_OF Rx Store A_Store B_Change to Cmpd 2, then back to Cmpd 1_check Ingred List at Store A UAT2_x00021_Create a New Compound UAT2_x00024_Defect 20066_MTX_PV2 UAT2_x00024_Defect 20066_MTX_PV2 UAT2_x00026_Regular U100 insulin_DV Edit to U500 UAT2_x00026_Regular U100 insulin_DV Edit to U500 UAT2_x00027_Hep B_Entecavir_Refill_Defect 26419 UAT2_x00028_Disallow Multi Tx_Req Written(Scheduled Rx)_Manual Tx_In Store A then Store B UAT2_x00030_OTC Interactional_Check DUR fires for Drug Interaction UAT2_x00033_DUR resolved Store A_after Rx autotx Store B can view Resolved UAT2_x00034_MD Overrides_DUR Age_Seen in eps UAT2_x00034_MD Overrides_DUR Age_Seen in eps UAT2_x00035_Drug_Disease Lorazepam and Asthma patient UAT2_x00035_Drug_Disease Lorazepam and Asthma patient UAT2_x00036_Lactation_Critical_Benzodiazepines Diazepam UAT2_x00038_Pediatric DURs UAT2_x00042_Age dosing UAT2_x00053_Keep Same Manuf_RAR_RAR Edit_Autotx UAT2_x00055_Change Fill_Repacks 00179 impact on keep same manu UAT2_x00056_Renewal_Same Store_No sig change_Same PG UAT2_x00057_Renewal_Same Store_Unfriendly sig to Friendly Sig UAT2_x00058_Renewed Prescription_Consult_ECC_No UAT2_x00059_Renewed Prescription_Consult_ECC_Yes UAT2_x00061_Change in Manuf due to change in PG flag_Same Store UAT2_x00063_PG different Store B_Autotx from Store A_Consult Req UAT2_x00065_Emergency Fill Consult Reqd UAT2_x00066_Defect 16519_Imprint Incorrect_swapped UAT2_x00070_Multiple Imprints_Images UAT2_x0008_Change Fill_Send down new Allergy to Drug US17362 _TC0004_ICD 09_KPHC_ICD 09 code visible in DE US18372_TC0007_ICD 09_Enable_Drug-Disease Precautions (Reported) & (Inferred) DUR_Disable_Drug-Disease DUR US18372_TC0013_ICD 09_Enable_Drug-Disease Precautions (Reported) DUR_Refill_IVR US18372_TC0013_ICD 09_Enable_Drug-Disease Precautions (Reported) DUR_Refill_IVR US18372_TC0013_ICD 09_Enable_Drug-Disease Precautions (Reported) DUR_Refill_IVR UAT2_x00020_ECC Pings-update Compound records like NDCs or auxilary labels and ensure all stores get the updated info UAT2_x00020_ECC Pings-update Compound records like NDCs or auxilary labels and ensure all stores get the updated info Drug_Clinical_Regression_TC103_CIII-CIV_Days_Supply_HardHalt_SCAL Drug_Clinical_Regression_TC114_DV_Check_Refill_SpecificDrug Drug_Clinical_Regression_TC123_Alternate_Language_Autotransfer Drug_Clinical_TC1193_US4820_Compound_EZRAR Drug_Clinical_TC1195_US4820_Compound_Refill_StoreB Drug_Clinical_TC1196_US4820_Compound_RxOnFile Drug_Clinical_TC1199_US4820_NDC_Change Drug_Clinical_TC1218_US4905_DIF3.3_validaition_StoreB Drug_Clinical_TC1218_US4905_DIF3.3_validaition_StoreB Drug_Clinical_TC1221_US4905_Pregnancy_Precaution_RefillRx Drug_Clinical_TC1225_US6516_Tx_DUR_List_Enhanced_StoreB Drug_Clinical_TC1226_US 6710_KPHC_Fill Notes_Autotransfer_DV Drug_Clinical_TC1229_US8847_EPS_MDS_PN_Female _PV_New Rx Drug_Clinical_TC1333_US8873_RenalDosing Drug_Clinical_TC1340_US8029_Apostrophe_before_after_StoreB Drug_Clinical_TC1341_US8918_KPNDC_SBMO Drug_Clinical_TC1343_US8847_EPS_MDS_Msg_DV_Female_out of age range_Negative test Drug_Clinical_TC1347_US4820_Sub_Group_DV_StoreB Drug_Clinical_TC1350_US4820_Compound_Sub_Group_Refill Drug_Clinical_TC1355_US4820_Sub_Group_Refill_Change_NDC Drug_Clinical_TC1365_US9172_OnFile_RxEdit NATL_SCAL_TC0001_US11006_Cycle_11_EPS_Order_New_Rx_Change_NDC_at_FILL_Different_Manufacturer NATL_SCAL_TC0002_US11006_Cycle_11_EPS_Order_New_Rx_Change_NDC_at_FILL_Different_Drug NATL_SCAL_TC0006_US11006_Cycle_11_EPS_Order_Refill_Rx_Change_NDC_at_FILL_Different_Pack_Size NATL_SCAL_TC0007_US11006_Cycle_11_EPS_Order_System_Renewed_Rx_Change_NDC_at_FILL_Different_Manufacturer NATL_SCAL_TC0008_US11006_Cycle_11_EPS_Order_System_Renewed_Rx_Change_NDC_at_FILL_Different_Drug NATL_SCAL_TC0010_US11006_Cycle_11_EPS_Order_Manual_Renewed_Rx_Change_NDC_at_FILL_Different_Manufacturer NATL_SCAL_TC0012_US11006_Cycle_11_EPS_Order_Manual_Renewed_Rx_Change_NDC_at_FILL_Different_Pack_Size NATL_SCAL_TC0014_US11006_Cycle_11_EPS_Order_Partial_and_Completion_Fill_Rx_Change_NDC_at_FILL_Different_Manufacturer NATL_SCAL_TC0016_US11006_Cycle_11_EPS_Order_Autotransfered_Rx_Change_NDC_at_FILL_Different_Manufacturer NATL_SCAL_TC0022_US11006_Cycle_11_EPS_Order_Emergency_Fill_Rx_Change_NDC_at_FILL_Different_Manufacturer NATL_SCAL_TC0027_US11006_Cycle_11_EPS_Order_Refill_Rx_Change_NDC_at_FILL_Different_Manufacturer_Re-adjudicate TP Fails NATL_SCAL_TC0029_US11006_Cycle_11_EPS_Order_New_Rx_Change_NDC_at_FILL_Different_Manufacturer_Grouping at Fill NATL_SCAL_TC0035_US11006_Cycle_11_EPS_Order_Reject_Change_Fill_Change_NDC NATL_SCAL_TC0040_US11006_Cycle_11_EPS_Order_ChangeNDC_PV_Validation NATL_SCAL_TC0041_US11006_Cycle_11_EPS_Order_New_Rx_Change_NDC_at_FILL_Different_Manufacturer_DUR Review_OFF NATL_SCAL_TC0045_US11006_Cycle_11_EPS_Order_Profiled_Rx_Change_NDC_at_FILL_Different_PackSize NATL_SCAL_TC0048_US11006_Cycle_11_EPS_Order_New_Rx_Compound_Drug_Change_NDC_at_FILL_Different_Ingredient NCALR1_Drug_Clinical_TC1091_US3836_NKDI NCALR1_Drug_Clinical_TC1096_US8051_SIG_Code_Built NCALR1_Drug_Clinical_TC1098_US8051_SIG_Code_StoreB ROC1_Drug_Clinical_TC1002_US7011_EPS_Allergen_description_length_StoreB ROC1_Drug_Clinical_TC1007_US5147_KPHC_CompoundRx_StandardRAR ROC1_Drug_Clinical_TC1061_US6265_EPS_Drug_LongName_StoreB SCALR2_Drug_Clinical_TC1031_US6588_EPS_CII_Drug_WrittenByPrescriber SCALR3_Drug_Clinical_TC1117_US5624_NDC_Selection_Refill_StoreB SCALR4_Drug_Clinical_TC1181_US930_NewNDC_DURs SCALR4_Drug_Clinical_TC1187_US930_NewGeneric_RPh_Counseling TC01_KPHC_ADD_Allergy_DUR_UNIQUE_PAR_CLASS_Antihistamine TC04_KPHC_ADD_Allergy_MULTIPLE_PAR_CLASS_TARTRAZINE CLASS (NOT SCREENED) TC08_KPHC_ADD_Allergy_DUR_CUSTOM_ALLERGEN_CALCIUM CHANNEL BLOCKERS UAT1_4_40001_CO_ALLERGY UAT1_4_40006_CO_ALLERGY UAT1_4_40009_CO_ALLERGY UAT2_x00010_Defect 18320_Store A cmpd 1_DV Edit_Cmpd 2 UAT2_x00011_Defect 23829_Store A_Cmpd 1_DV Edit Cmpd 2_Autotx Store B UAT2_x00012_Defect 11127_Premade Cmpd_with Control Ingred_RAR UAT2_x00013_Cmpd Store A_Sold Store A_Autotx to Store B UAT2_x00024_Defect 20066_MTX_PV2 UAT2_x00027_Hep B_Entecavir_Refill_Defect 26419 UAT2_x00027_Hep B_Entecavir_Refill_Defect 26419 UAT2_x00028_Disallow Multi Tx_Req Written(Scheduled Rx)_Manual Tx_In Store A then Store B UAT2_x00030_OTC Interactional_Check DUR fires for Drug Interaction UAT2_x00032_DUR resolved Store A_View Store B UAT2_x00033_DUR resolved Store A_after Rx autotx Store B can view Resolved UAT2_x00034_MD Overrides_DUR Age_Seen in eps UAT2_x00036_Lactation_Critical_Benzodiazepines Diazepam UAT2_x00037_Drug_Drug Flecainide and Cipro UAT2_x00038_Pediatric DURs UAT2_x00042_Age dosing UAT2_x00044_PN-EM-Drug-DE_DV_New_Refills at NDC UAT2_x00045_PN-EM-Both DE-DV_New and Refill at GPI_Defect 24179 UAT2_x00046_PN-DOC-Drug_New only at NDC UAT2_x00050_Use Same Manuf Each Fill for Rx_Different PG UAT2_x00055_Change Fill_Repacks 00179 impact on keep same manu UAT2_x00056_Renewal_Same Store_No sig change_Same PG UAT2_x00057_Renewal_Same Store_Unfriendly sig to Friendly Sig UAT2_x00058_Renewed Prescription_Consult_ECC_No UAT2_x00059_Renewed Prescription_Consult_ECC_Yes UAT2_x00059_Renewed Prescription_Consult_ECC_Yes UAT2_x0006_New Cmpd Rx that patient has existing allergy to one ingred in DRUG CLASS UAT2_x00060_Changing last 2 digits of NDC , uses same Manuf, Consult Reqd should not occur UAT2_x00063_PG different Store B_Autotx from Store A_Consult Req UAT2_x00064_Consult Notes_History UAT2_x00065_Emergency Fill Consult Reqd UAT2_x00066_Defect 16519_Imprint Incorrect_swapped UAT2_x00068_DAW1_Store A_Autotx Store B Defect_12964_Initial_Fill_Autotransfer_Refill_Rx_twice Defect_12964_Initial_Fill_Autotransfer_Sell_Refill_Rx Defect_Retest_12810_Scenario 2 Drug_Clinical_Regression_TC101_DUR_Review Drug_Clinical_Regression_TC102_KPHC_Allergy Drug_Clinical_Regression_TC103_CIII-CIV_Days_Supply_HardHalt_SCAL Drug_Clinical_Regression_TC103_CIII-CIV_Days_Supply_HardHalt_SCAL Drug_Clinical_Regression_TC107_Compound_Drug Drug_Clinical_Regression_TC108_CIII-CV_drug_RxOrigin Drug_Clinical_Regression_TC109_ProductSelection Drug_Clinical_Regression_TC111_Region_Specific_Drug_Schedule Drug_Clinical_Regression_TC112_OOR_Pickup Type_Waiting_SpecificDrug Drug_Clinical_Regression_TC114_DV_Check_Refill_SpecificDrug Drug_Clinical_Regression_TC116_KPHC_Dose_Unit_Multiple_SigText_EZRAR Drug_Clinical_Regression_TC118_Alternate_Language_Refill Drug_Clinical_Regression_TC119_Allergy_review Drug_Clinical_Regression_TC122_Discrete_Pt_Friendly SIG_RAR Drug_Clinical_Regression_TC123_Alternate_Language_Autotransfer Drug_Clinical_TC1193_US4820_Compound_EZRAR Drug_Clinical_TC1195_US4820_Compound_Refill_StoreB Drug_Clinical_TC1196_US4820_Compound_RxOnFile Drug_Clinical_TC1199_US4820_NDC_Change Drug_Clinical_TC1203_US4820_Compound_Ingredients_Display Drug_Clinical_TC1218_US4905_DIF3.3_validaition_StoreB Drug_Clinical_TC1221_US4905_Pregnancy_Precaution_RefillRx Drug_Clinical_TC1225_US6516_Tx_DUR_List_Enhanced_StoreB Drug_Clinical_TC1226_US 6710_KPHC_Fill Notes_Autotransfer_DV Drug_Clinical_TC1226_US 6710_KPHC_Fill Notes_Autotransfer_DV Drug_Clinical_TC1226_US 6710_KPHC_Fill Notes_Autotransfer_DV Drug_Clinical_TC1333_US8873_RenalDosing Drug_Clinical_TC1339_US8918_NewRx_Claim Drug_Clinical_TC1340_US8029_Apostrophe_before_after_StoreB Drug_Clinical_TC1340_US8029_Apostrophe_before_after_StoreB Drug_Clinical_TC1341_US8918_KPNDC_SBMO Drug_Clinical_TC1343_US8847_EPS_MDS_Msg_DV_Female_out of age range_Negative test Drug_Clinical_TC1347_US4820_Sub_Group_DV_StoreB Drug_Clinical_TC1350_US4820_Compound_Sub_Group_Refill Drug_Clinical_TC1355_US4820_Sub_Group_Refill_Change_NDC Drug_Clinical_TC1358_US4820_Sub_Group_Manual_Renew Drug_Clinical_TC1365_US9172_OnFile_RxEdit NATL_SCAL_TC0001_US10591_Cycle_11_KPHC_Allergy_Deleted_Failed_Allergy_Report_Generated_at_ESB NATL_SCAL_TC0001_US11006_Cycle_11_EPS_Order_New_Rx_Change_NDC_at_FILL_Different_Manufacturer NATL_SCAL_TC0002_US11006_Cycle_11_EPS_Order_New_Rx_Change_NDC_at_FILL_Different_Drug NATL_SCAL_TC0006_US11006_Cycle_11_EPS_Order_Refill_Rx_Change_NDC_at_FILL_Different_Pack_Size NATL_SCAL_TC0006_US11006_Cycle_11_EPS_Order_Refill_Rx_Change_NDC_at_FILL_Different_Pack_Size NATL_SCAL_TC0006_US11006_Cycle_11_EPS_Order_Refill_Rx_Change_NDC_at_FILL_Different_Pack_Size NATL_SCAL_TC0007_US11006_Cycle_11_EPS_Order_System_Renewed_Rx_Change_NDC_at_FILL_Different_Manufacturer NATL_SCAL_TC0007_US11006_Cycle_11_EPS_Order_System_Renewed_Rx_Change_NDC_at_FILL_Different_Manufacturer NATL_SCAL_TC0008_US11006_Cycle_11_EPS_Order_System_Renewed_Rx_Change_NDC_at_FILL_Different_Drug NATL_SCAL_TC0008_US11006_Cycle_11_EPS_Order_System_Renewed_Rx_Change_NDC_at_FILL_Different_Drug NATL_SCAL_TC0010_US11006_Cycle_11_EPS_Order_Manual_Renewed_Rx_Change_NDC_at_FILL_Different_Manufacturer NATL_SCAL_TC0012_US11006_Cycle_11_EPS_Order_Manual_Renewed_Rx_Change_NDC_at_FILL_Different_Pack_Size NATL_SCAL_TC0014_US11006_Cycle_11_EPS_Order_Partial_and_Completion_Fill_Rx_Change_NDC_at_FILL_Different_Manufacturer NATL_SCAL_TC0016_US11006_Cycle_11_EPS_Order_Autotransfered_Rx_Change_NDC_at_FILL_Different_Manufacturer NATL_SCAL_TC0017_US11006_Cycle_11_EPS_Order_Autotransfered_Rx_Change_NDC_at_FILL_Different_Drug NATL_SCAL_TC0017_US11006_Cycle_11_EPS_Order_Autotransfered_Rx_Change_NDC_at_FILL_Different_Drug NATL_SCAL_TC0021_US11006_Cycle_11_EPS_Order_Converted_Rx_Change_NDC_at_FILL_Different_Pack_Size NATL_SCAL_TC0022_US11006_Cycle_11_EPS_Order_Emergency_Fill_Rx_Change_NDC_at_FILL_Different_Manufacturer NATL_SCAL_TC0025_US11006_Cycle_11_KPHC_Order_New_Rx_Change_NDC_at_FILL_Different_Manufacturer_Re-adjudicate TP Fails NATL_SCAL_TC0027_US11006_Cycle_11_EPS_Order_Refill_Rx_Change_NDC_at_FILL_Different_Manufacturer_Re-adjudicate TP Fails NATL_SCAL_TC0029_US11006_Cycle_11_EPS_Order_New_Rx_Change_NDC_at_FILL_Different_Manufacturer_Grouping at Fill NATL_SCAL_TC0034_US11006_Cycle_11_EPS_Order_New_Rx_Change_NDC_at_FILL_Different_Packsize_DUR Review NATL_SCAL_TC0035_US11006_Cycle_11_EPS_Order_Reject_Change_Fill_Change_NDC NATL_SCAL_TC0040_US11006_Cycle_11_EPS_Order_ChangeNDC_PV_Validation NATL_SCAL_TC0040_US11006_Cycle_11_EPS_Order_ChangeNDC_PV_Validation NATL_SCAL_TC0041_US11006_Cycle_11_EPS_Order_New_Rx_Change_NDC_at_FILL_Different_Manufacturer_DUR Review_OFF NATL_SCAL_TC0042_US11006_Cycle_11_EPS_Order_Profiled_Rx_Change_NDC_at_FILL_Different_Manufacturer_DUR Review_ON_StoreB NATL_SCAL_TC0043_US11006_Cycle_11_EPS_Order_IVR_RAR_Change_NDC_at_FILL_Different_Manufacturer NATL_SCAL_TC0044_US11006_Cycle_11_EPS_Order_KP.ORG_RAR_Change_NDC_at_FILL_Different_Manufacturer NATL_SCAL_TC0044_US11006_Cycle_11_EPS_Order_KP.ORG_RAR_Change_NDC_at_FILL_Different_Manufacturer NATL_SCAL_TC0045_US11006_Cycle_11_EPS_Order_Profiled_Rx_Change_NDC_at_FILL_Different_PackSize NATL_SCAL_TC0047_US11006_Cycle_11_EPS_Order_New_Rx_Compound_Drug_Change_NDC_at_FILL_Different_Manufacturer_Ingredient NATL_SCAL_TC0048_US11006_Cycle_11_EPS_Order_New_Rx_Compound_Drug_Change_NDC_at_FILL_Different_Ingredient NATL_SCAL_TC0048_US11006_Cycle_11_EPS_Order_New_Rx_Compound_Drug_Change_NDC_at_FILL_Different_Ingredient NCALR1_Drug_Clinical_TC1089_US3836_NKI NCALR1_Drug_Clinical_TC1091_US3836_NKDI NCALR1_Drug_Clinical_TC1096_US8051_SIG_Code_Built NCALR1_Drug_Clinical_TC1098_US8051_SIG_Code_StoreB NCALR1_Drug_Clinical_TC1129_US6656_Rx_Level_Refill NCALR1_Drug_Clinical_TC1129_US6656_Rx_Level_Refill NCALR1_Drug_Clinical_TC1134_US6656_Pt_Level_Fill_Partial_Completion NCALR1_Drug_Clinical_TC1135_US6656_Pt_Level_eConversion_NewRx_Refill NCALR1_Drug_Clinical_TC1142_US7777_EZRAR_PV2 NW_Drug_Clinical_TC1212_US8935_EditAllergy NW_Drug_Clinical_TC1213_US8935_Allergy_Blank ROC1_Drug_Clinical_TC1002_US7011_EPS_Allergen_description_length_StoreB ROC1_Drug_Clinical_TC1007_US5147_KPHC_CompoundRx_StandardRAR ROC1_Drug_Clinical_TC1011_US5147_KPHC_CompoundRx_Renew SCALR2_Drug_Clinical_TC1039_US6588_KPHC_CIII-CV_Drugs_Rx_Origin_Fax SCALR2_Drug_Clinical_TC1047_US6588_EPS_CIII-CV_Drug_ProfiledRx_StoreB_Phone SCALR2_Drug_Clinical_TC1049_US6588_EPS_CIII-CV_Drug_StoreB_Written SCALR2_Drug_Clinical_TC1068_US6588_EPS_CIII-CV_Drug_Renew_CallPrescriber_Phone SCALR3_Drug_Clinical_TC1117_US5624_NDC_Selection_Refill_StoreB SCALR4_Drug_Clinical_TC1161_US9312_Rx_InclusionList_Yes_Class_OP SCALR4_Drug_Clinical_TC1162_US9312_Rx_InclusionList_Yes_StoreB SCALR4_Drug_Clinical_TC1166_US9358_KPHC_Dose_Unit_Multiple_SigText_Refill SCALR4_Drug_Clinical_TC1169_US9358_KPHC_Dose_Unit_Multiple_SigText_StoreB SCALR4_Drug_Clinical_TC1169_US9358_KPHC_Dose_Unit_Multiple_SigText_StoreB SCALR4_Drug_Clinical_TC1181_US930_NewNDC_DURs SCALR4_Drug_Clinical_TC1186_US930_SBMO SCALR4_Drug_Clinical_TC1186_US930_SBMO SCALR4_Drug_Clinical_TC1187_US930_NewGeneric_RPh_Counseling SCALR4_Drug_Clinical_TC1187_US930_NewGeneric_RPh_Counseling TC02_KPHC_UPDATE_Allergy_UNIQUE_PAR_CLASS_Antihistamine TC03_KPHC_DELETE_Allergy_UNIQUE_PAR_CLASS_Antihistamine TC04_KPHC_ADD_Allergy_MULTIPLE_PAR_CLASS_TARTRAZINE CLASS (NOT SCREENED) TC05_KPHC_UPDATE_Allergy_MULTIPLE_PAR_CLASS_SULFA (SULFONAMIDE ANTIBIOTICS TC06_KPHC_ADD_Allergy_MULTIPLE_NDDF_BENZOIC ACID TC06_KPHC_ADD_Allergy_MULTIPLE_NDDF_BENZOIC ACID TC06_KPHC_ADD_Allergy_MULTIPLE_NDDF_BENZOIC ACID TC07_KPHC_UPDATE_Allergy_MULTIPLE_NDDF_GLYCERIN TC08_KPHC_ADD_Allergy_DUR_CUSTOM_ALLERGEN_CALCIUM CHANNEL BLOCKERS TC09_KPHC_UPDATE_Allergy_CUSTOM_ALLERGEN_SELECTIVE SEROTONIN RE-UPDATE INHIBITORS UAT1_4_40001_CO_ALLERGY UAT1_4_40002_CO_ALLERGY UAT1_4_40003_CO_ALLERGY UAT1_4_40004_CO_ALLERGY UAT1_4_40005_CO_ALLERGY UAT1_4_40006_CO_ALLERGY UAT1_4_40006_CO_ALLERGY UAT1_4_40007_CO_ALLERGY UAT1_4_40008_CO_ALLERGY UAT1_4_40009_CO_ALLERGY UAT1_4_40009_CO_ALLERGY UAT1_4_40010_CO_ALLERGY UAT1_TC_6_MAS_Adding Allergy in KPHC and verifying it in ePIMS UAT1_TC_64_MAS_Update allergen drug class in KPHC with new severity and comments UAT1_TC_65_MAS_Delete drug class allergen in HC UAT1_TC0033_MAS_Add NKDA allergy at KPHC UAT2_x0001_Add new allergy with Type_ Reaction_Severity in KPHC UAT2_x0001_KPHC_New Allergy_EPS _NKA UAT2_x00010_Defect 18320_Store A cmpd 1_DV Edit_Cmpd 2 UAT2_x00011_Defect 23829_Store A_Cmpd 1_DV Edit Cmpd 2_Autotx Store B UAT2_x00011_Defect 24623_Cannot create new Compound in ECC UAT2_x00011_Defect 24623_Cannot create new Compound in ECC UAT2_x00012_Defect 11127_Premade Cmpd_with Control Ingred_RAR UAT2_x00012_Defect 11127_Premade Cmpd_with Control Ingred_RAR UAT2_x00013_Cmpd Store A_Sold Store A_Autotx to Store B UAT2_x00014_Local made Cmpd_Renew from EPS UAT2_x00015_RAR Edit_Change Different NDC Compound UAT2_x00016_Defect 18796_OF Rx Store A_Store B_Change to Cmpd 2, then back to Cmpd 1_check Ingred List at Store A UAT2_x00018_Deactivate Compounds for one Region and validate all stores get the info UAT2_x00019_Reactivate Compound for one region and validate all stores in region get the info UAT2_x0002_Add new allergy without type_reaction_severity in KPHC UAT2_x0002_KPHC_New Allergy_EPS _existing drug allergy UAT2_x00020_ECC Pings-update Compound records like NDCs or auxilary labels and ensure all stores get the updated info UAT2_x00020_ECC Pings-update Compound records like NDCs or auxilary labels and ensure all stores get the updated info UAT2_x00021_Create a New Compound UAT2_x00022_Edit existing Compound with new Disp ID for one ingred for local cmpd UAT2_x00023_Edit existing Compound with new NDC for premade UAT2_x00023_Edit existing Compound with new NDC for premade UAT2_x00023_Edit existing Compound with new NDC for premade UAT2_x00024_Defect 20066_MTX_PV2 UAT2_x00025_U 500 Dispense Rule_Happy Path UAT2_x00025_U 500 Dispense Rule_Happy Path UAT2_x00026_Regular U100 insulin_DV Edit to U500 UAT2_x00027_Hep B_Entecavir_Refill_Defect 26419 UAT2_x00028_Disallow Multi Tx_Req Written(Scheduled Rx)_Manual Tx_In Store A then Store B UAT2_x00028_Disallow Multi Tx_Req Written(Scheduled Rx)_Manual Tx_In Store A then Store B UAT2_x00028_Disallow Multi Tx_Req Written(Scheduled Rx)_Manual Tx_In Store A then Store B UAT2_x00029_Oral Chemo Rx_New_Refills require Rph Consult UAT2_x0003_Delete existing allergy for MRN in KPHC UAT2_x0003_KPHC_Superclass Allergy_CA Channel Blockers_prior NKA_Defect 23771 UAT2_x00030_OTC Interactional_Check DUR fires for Drug Interaction UAT2_x00031_Compound Interactional_Check DUR Fires for Drug Interaction UAT2_x00032_DUR resolved Store A_View Store B UAT2_x00033_DUR resolved Store A_after Rx autotx Store B can view Resolved UAT2_x00034_MD Overrides_DUR Age_Seen in eps UAT2_x00034_MD Overrides_DUR Age_Seen in eps UAT2_x00035_Drug_Disease Lorazepam and Asthma patient UAT2_x00036_Lactation_Critical_Benzodiazepines Diazepam UAT2_x00037_Drug_Drug Flecainide and Cipro UAT2_x00038_Pediatric DURs UAT2_x00039_Defect 18716_ECC Drug Selection Filter Changes Propagation to eps UAT2_x0004_KPHC_Superclass Allergy_Insulin_prior NKA UAT2_x0004_Update existing allergy for MRN in KPHC UAT2_x00040_Defect 21599_ECC Drug Disease Precaution Filters are not Saving UAT2_x00041_Drug Disease Screening_Reported UAT2_x00042_Age dosing UAT2_x00043_Allergy_TCN rash, if pt prescribed atorvastatin and ECC Check Inactive Ingred on Yes UAT2_x00044_PN-EM-Drug-DE_DV_New_Refills at NDC UAT2_x00045_PN-EM-Both DE-DV_New and Refill at GPI_Defect 24179 UAT2_x00046_PN-DOC-Drug_New only at NDC UAT2_x00046_PN-DOC-Drug_New only at NDC UAT2_x00047_PN-DOC-Drug_New only at GPI UAT2_x00048_TCS_Latuda UAT2_x00049_PN-EM-Methadone-GPI-Level 4 UAT2_x0005_New Cmpd Rx that patient has existing allergy to one ingred UAT2_x00050_Use Same Manuf Each Fill for Rx_Different PG UAT2_x00051_Defect 16740_Store A, Rx flagged Use the same Mfg for each fills of this Rx then Autotx Store B UAT2_x00052_Interactional NDC sent from KPHC_NDC not in Store UAT2_x00053_Keep Same Manuf_RAR_RAR Edit_Autotx UAT2_x00054_Change Fill on DAW1 Rx UAT2_x00055_Change Fill_Repacks 00179 impact on keep same manu UAT2_x00056_Renewal_Same Store_No sig change_Same PG UAT2_x00057_Renewal_Same Store_Unfriendly sig to Friendly Sig UAT2_x00058_Renewed Prescription_Consult_ECC_No UAT2_x00059_Renewed Prescription_Consult_ECC_Yes UAT2_x0006_New Cmpd Rx that patient has existing allergy to one ingred in DRUG CLASS UAT2_x00060_Changing last 2 digits of NDC , uses same Manuf, Consult Reqd should not occur UAT2_x00061_Change in Manuf due to change in PG flag_Same Store UAT2_x00061_Change in Manuf due to change in PG flag_Same Store UAT2_x00062_New Rx should be flagged for Rph Consult Req UAT2_x00063_PG different Store B_Autotx from Store A_Consult Req UAT2_x00064_Consult Notes_History UAT2_x00065_Emergency Fill Consult Reqd UAT2_x00066_Defect 16519_Imprint Incorrect_swapped UAT2_x00067_DAW1_KPHC_Change Fill UAT2_x00068_DAW1_Store A_Autotx Store B UAT2_x00069_Defect 26201_Fioricet or Primidone Autotx_Controlled Store to Non Controlled store UAT2_x0007_Removing Existing Allergy from KPHC updates eps stores UAT2_x0007_Removing Existing Allergy from KPHC updates eps stores UAT2_x00070_Multiple Imprints_Images UAT2_x00071_Rph Consult_Patient Disease UAT2_x00071_Rph Consult_Patient Disease UAT2_x00072_OTC Orders as Rxs UAT2_x00073_Outside Pharmacy UAT2_x00074_Interactional - include Controls with Provider not Dual Authenticated UAT2_x00075_Expired Rxs Legend, Controls, Cmpds, UAT2_x00076_EPCS provider using Dual Authentication RARs, news UAT2_x00077_Levothyroxine_Change Fill Brand_Generic UAT2_x00077_Levothyroxine_Change Fill Brand_Generic UAT2_x00078_Klor clon- Change Fill UAT2_x00079_OTC Inclusion List- KPHC orders should not post interactional UAT2_x0008_Change Fill_Send down new Allergy to Drug UAT2_x00080_Humulin NPH (vs Kwikpen) and Sotalol AF vs Sotalol what displays as drug name on Rx hard copy on RAR and what provider sees in kphc in basket, Carbatrol vs Carbatrol SA, etc UAT2_x0009_Cmpd Aged_OF Store A_Autotx Store B UAT2_x000UAT2_Compounds with one Controlled ingred Req Written UAT2_x000UAT2_Compounds with one Controlled ingred Req Written US17362 _TC0002_ICD 09_ Drug disease DURs to be updated in EPR to be available in any pharmacy US17362 _TC0004_ICD 09_KPHC_ICD 09 code visible in DE US18372_TC0007_ICD 09_Enable_Drug-Disease Precautions (Reported) & (Inferred) DUR_Disable_Drug-Disease DUR US18372_TC0013_ICD 09_Enable_Drug-Disease Precautions (Reported) DUR_Refill_IVR Defect_12964_Initial_Fill_Autotransfer_Refill_Rx_twice Defect_12964_Initial_Fill_Autotransfer_Sell_Refill_Rx Defect_Retest_12810_Scenario 2 Drug_Clinical_Regression_TC101_DUR_Review Drug_Clinical_Regression_TC102_KPHC_Allergy Drug_Clinical_Regression_TC102_KPHC_Allergy Drug_Clinical_Regression_TC102_KPHC_Allergy Drug_Clinical_Regression_TC102_KPHC_Allergy Drug_Clinical_Regression_TC102_KPHC_Allergy Drug_Clinical_Regression_TC103_CIII-CIV_Days_Supply_HardHalt_SCAL Drug_Clinical_Regression_TC107_Compound_Drug Drug_Clinical_Regression_TC107_Compound_Drug Drug_Clinical_Regression_TC111_Region_Specific_Drug_Schedule Drug_Clinical_Regression_TC111_Region_Specific_Drug_Schedule Drug_Clinical_Regression_TC114_DV_Check_Refill_SpecificDrug Drug_Clinical_Regression_TC114_DV_Check_Refill_SpecificDrug Drug_Clinical_Regression_TC116_KPHC_Dose_Unit_Multiple_SigText_EZRAR Drug_Clinical_Regression_TC116_KPHC_Dose_Unit_Multiple_SigText_EZRAR Drug_Clinical_Regression_TC116_KPHC_Dose_Unit_Multiple_SigText_EZRAR Drug_Clinical_Regression_TC118_Alternate_Language_Refill Drug_Clinical_Regression_TC118_Alternate_Language_Refill Drug_Clinical_Regression_TC118_Alternate_Language_Refill Drug_Clinical_TC1193_US4820_Compound_EZRAR Drug_Clinical_TC1195_US4820_Compound_Refill_StoreB Drug_Clinical_TC1218_US4905_DIF3.3_validaition_StoreB Drug_Clinical_TC1229_US8847_EPS_MDS_PN_Female _PV_New Rx Drug_Clinical_TC1333_US8873_RenalDosing Drug_Clinical_TC1340_US8029_Apostrophe_before_after_StoreB Drug_Clinical_TC1350_US4820_Compound_Sub_Group_Refill Drug_Clinical_TC1350_US4820_Compound_Sub_Group_Refill Drug_Clinical_TC1355_US4820_Sub_Group_Refill_Change_NDC NATL_SCAL_TC0001_US11006_Cycle_11_EPS_Order_New_Rx_Change_NDC_at_FILL_Different_Manufacturer NATL_SCAL_TC0001_US11006_Cycle_11_EPS_Order_New_Rx_Change_NDC_at_FILL_Different_Manufacturer NATL_SCAL_TC0012_US11006_Cycle_11_EPS_Order_Manual_Renewed_Rx_Change_NDC_at_FILL_Different_Pack_Size NATL_SCAL_TC0012_US11006_Cycle_11_EPS_Order_Manual_Renewed_Rx_Change_NDC_at_FILL_Different_Pack_Size NATL_SCAL_TC0012_US11006_Cycle_11_EPS_Order_Manual_Renewed_Rx_Change_NDC_at_FILL_Different_Pack_Size NATL_SCAL_TC0022_US11006_Cycle_11_EPS_Order_Emergency_Fill_Rx_Change_NDC_at_FILL_Different_Manufacturer NATL_SCAL_TC0022_US11006_Cycle_11_EPS_Order_Emergency_Fill_Rx_Change_NDC_at_FILL_Different_Manufacturer NATL_SCAL_TC0022_US11006_Cycle_11_EPS_Order_Emergency_Fill_Rx_Change_NDC_at_FILL_Different_Manufacturer NATL_SCAL_TC0022_US11006_Cycle_11_EPS_Order_Emergency_Fill_Rx_Change_NDC_at_FILL_Different_Manufacturer NATL_SCAL_TC0022_US11006_Cycle_11_EPS_Order_Emergency_Fill_Rx_Change_NDC_at_FILL_Different_Manufacturer NATL_SCAL_TC0025_US11006_Cycle_11_KPHC_Order_New_Rx_Change_NDC_at_FILL_Different_Manufacturer_Re-adjudicate TP Fails NATL_SCAL_TC0040_US11006_Cycle_11_EPS_Order_ChangeNDC_PV_Validation NATL_SCAL_TC0040_US11006_Cycle_11_EPS_Order_ChangeNDC_PV_Validation NATL_SCAL_TC0045_US11006_Cycle_11_EPS_Order_Profiled_Rx_Change_NDC_at_FILL_Different_PackSize NATL_SCAL_TC0048_US11006_Cycle_11_EPS_Order_New_Rx_Compound_Drug_Change_NDC_at_FILL_Different_Ingredient NCALR1_Drug_Clinical_TC1091_US3836_NKDI NCALR1_Drug_Clinical_TC1141_US7777_EPS_Refill_PV2_StoreB NCALR1_Drug_Clinical_TC1141_US7777_EPS_Refill_PV2_StoreB ROC1_Drug_Clinical_TC1007_US5147_KPHC_CompoundRx_StandardRAR ROC1_Drug_Clinical_TC1007_US5147_KPHC_CompoundRx_StandardRAR ROC1_Drug_Clinical_TC1061_US6265_EPS_Drug_LongName_StoreB ROC1_Drug_Clinical_TC1061_US6265_EPS_Drug_LongName_StoreB SCALR4_Drug_Clinical_TC1161_US9312_Rx_InclusionList_Yes_Class_OP SCALR4_Drug_Clinical_TC1162_US9312_Rx_InclusionList_Yes_StoreB SCALR4_Drug_Clinical_TC1169_US9358_KPHC_Dose_Unit_Multiple_SigText_StoreB SCALR4_Drug_Clinical_TC1169_US9358_KPHC_Dose_Unit_Multiple_SigText_StoreB SCALR4_Drug_Clinical_TC1169_US9358_KPHC_Dose_Unit_Multiple_SigText_StoreB TC08_KPHC_ADD_Allergy_DUR_CUSTOM_ALLERGEN_CALCIUM CHANNEL BLOCKERS UAT1_4_40001_CO_ALLERGY UAT1_4_40006_CO_ALLERGY UAT1_4_40009_CO_ALLERGY UAT2_x00010_Defect 18320_Store A cmpd 1_DV Edit_Cmpd 2 UAT2_x00011_Defect 23829_Store A_Cmpd 1_DV Edit Cmpd 2_Autotx Store B UAT2_x00011_Defect 23829_Store A_Cmpd 1_DV Edit Cmpd 2_Autotx Store B UAT2_x00011_Defect 24623_Cannot create new Compound in ECC UAT2_x00011_Defect 24623_Cannot create new Compound in ECC UAT2_x00012_Defect 11127_Premade Cmpd_with Control Ingred_RAR UAT2_x00014_Local made Cmpd_Renew from EPS UAT2_x00014_Local made Cmpd_Renew from EPS UAT2_x00015_RAR Edit_Change Different NDC Compound UAT2_x00015_RAR Edit_Change Different NDC Compound UAT2_x00016_Defect 18796_OF Rx Store A_Store B_Change to Cmpd 2, then back to Cmpd 1_check Ingred List at Store A UAT2_x00016_Defect 18796_OF Rx Store A_Store B_Change to Cmpd 2, then back to Cmpd 1_check Ingred List at Store A UAT2_x00016_Defect 18796_OF Rx Store A_Store B_Change to Cmpd 2, then back to Cmpd 1_check Ingred List at Store A UAT2_x00018_Deactivate Compounds for one Region and validate all stores get the info UAT2_x0002_KPHC_New Allergy_EPS _existing drug allergy UAT2_x0002_KPHC_New Allergy_EPS _existing drug allergy UAT2_x00020_ECC Pings-update Compound records like NDCs or auxilary labels and ensure all stores get the updated info UAT2_x00020_ECC Pings-update Compound records like NDCs or auxilary labels and ensure all stores get the updated info UAT2_x00021_Create a New Compound UAT2_x00024_Defect 20066_MTX_PV2 UAT2_x00026_Regular U100 insulin_DV Edit to U500 UAT2_x00027_Hep B_Entecavir_Refill_Defect 26419 UAT2_x00028_Disallow Multi Tx_Req Written(Scheduled Rx)_Manual Tx_In Store A then Store B UAT2_x00028_Disallow Multi Tx_Req Written(Scheduled Rx)_Manual Tx_In Store A then Store B UAT2_x00029_Oral Chemo Rx_New_Refills require Rph Consult UAT2_x0003_KPHC_Superclass Allergy_CA Channel Blockers_prior NKA_Defect 23771 UAT2_x00030_OTC Interactional_Check DUR fires for Drug Interaction UAT2_x00032_DUR resolved Store A_View Store B UAT2_x00036_Lactation_Critical_Benzodiazepines Diazepam UAT2_x00038_Pediatric DURs UAT2_x00039_Defect 18716_ECC Drug Selection Filter Changes Propagation to eps UAT2_x00040_Defect 21599_ECC Drug Disease Precaution Filters are not Saving UAT2_x00042_Age dosing UAT2_x00044_PN-EM-Drug-DE_DV_New_Refills at NDC UAT2_x00044_PN-EM-Drug-DE_DV_New_Refills at NDC UAT2_x00045_PN-EM-Both DE-DV_New and Refill at GPI_Defect 24179 UAT2_x00046_PN-DOC-Drug_New only at NDC UAT2_x00046_PN-DOC-Drug_New only at NDC UAT2_x00050_Use Same Manuf Each Fill for Rx_Different PG UAT2_x00050_Use Same Manuf Each Fill for Rx_Different PG UAT2_x00051_Defect 16740_Store A, Rx flagged Use the same Mfg for each fills of this Rx then Autotx Store B UAT2_x00056_Renewal_Same Store_No sig change_Same PG UAT2_x00056_Renewal_Same Store_No sig change_Same PG UAT2_x00056_Renewal_Same Store_No sig change_Same PG UAT2_x0006_New Cmpd Rx that patient has existing allergy to one ingred in DRUG CLASS UAT2_x00060_Changing last 2 digits of NDC , uses same Manuf, Consult Reqd should not occur UAT2_x00061_Change in Manuf due to change in PG flag_Same Store UAT2_x00064_Consult Notes_History UAT2_x00064_Consult Notes_History UAT2_x00066_Defect 16519_Imprint Incorrect_swapped UAT2_x00068_DAW1_Store A_Autotx Store B UAT2_x00068_DAW1_Store A_Autotx Store B UAT2_x00069_Defect 26201_Fioricet or Primidone Autotx_Controlled Store to Non Controlled store UAT2_x00070_Multiple Imprints_Images UAT2_x00070_Multiple Imprints_Images UAT2_x00075_Expired Rxs Legend, Controls, Cmpds, UAT2_x00077_Levothyroxine_Change Fill Brand_Generic UAT2_x00078_Klor clon- Change Fill UAT2_x00079_OTC Inclusion List- KPHC orders should not post interactional UAT2_x00080_Humulin NPH (vs Kwikpen) and Sotalol AF vs Sotalol what displays as drug name on Rx hard copy on RAR and what provider sees in kphc in basket, Carbatrol vs Carbatrol SA, etc UAT2_x0009_Cmpd Aged_OF Store A_Autotx Store B UAT2_x0009_Cmpd Aged_OF Store A_Autotx Store B US18372_TC0013_ICD 09_Enable_Drug-Disease Precautions (Reported) DUR_Refill_IVR US18372_TC0013_ICD 09_Enable_Drug-Disease Precautions (Reported) DUR_Refill_IVR US18372_TC0013_ICD 09_Enable_Drug-Disease Precautions (Reported) DUR_Refill_IVR US18372_TC0013_ICD 09_Enable_Drug-Disease Precautions (Reported) DUR_Refill_IVR Defect_12964_Initial_Fill_Autotransfer_Refill_Rx_twice Defect_12964_Initial_Fill_Autotransfer_Sell_Refill_Rx Defect_Retest_12810_Scenario 2 Drug_Clinical_Regression_TC102_KPHC_Allergy Drug_Clinical_Regression_TC103_CIII-CIV_Days_Supply_HardHalt_SCAL Drug_Clinical_Regression_TC107_Compound_Drug Drug_Clinical_Regression_TC109_ProductSelection Drug_Clinical_Regression_TC112_OOR_Pickup Type_Waiting_SpecificDrug Drug_Clinical_Regression_TC116_KPHC_Dose_Unit_Multiple_SigText_EZRAR Drug_Clinical_Regression_TC118_Alternate_Language_Refill Drug_Clinical_Regression_TC122_Discrete_Pt_Friendly SIG_RAR Drug_Clinical_Regression_TC123_Alternate_Language_Autotransfer Drug_Clinical_Regression_TC123_Alternate_Language_Autotransfer Drug_Clinical_Regression_TC123_Alternate_Language_Autotransfer Drug_Clinical_TC1218_US4905_DIF3.3_validaition_StoreB Drug_Clinical_TC1225_US6516_Tx_DUR_List_Enhanced_StoreB Drug_Clinical_TC1226_US 6710_KPHC_Fill Notes_Autotransfer_DV Drug_Clinical_TC1226_US 6710_KPHC_Fill Notes_Autotransfer_DV Drug_Clinical_TC1343_US8847_EPS_MDS_Msg_DV_Female_out of age range_Negative test Drug_Clinical_TC1343_US8847_EPS_MDS_Msg_DV_Female_out of age range_Negative test Drug_Clinical_TC1347_US4820_Sub_Group_DV_StoreB Drug_Clinical_TC1350_US4820_Compound_Sub_Group_Refill Drug_Clinical_TC1350_US4820_Compound_Sub_Group_Refill Drug_Clinical_TC1355_US4820_Sub_Group_Refill_Change_NDC Drug_Clinical_TC1355_US4820_Sub_Group_Refill_Change_NDC Drug_Clinical_TC1358_US4820_Sub_Group_Manual_Renew NCALR1_Drug_Clinical_TC1098_US8051_SIG_Code_StoreB NCALR1_Drug_Clinical_TC1135_US6656_Pt_Level_eConversion_NewRx_Refill SCALR2_Drug_Clinical_TC1049_US6588_EPS_CIII-CV_Drug_StoreB_Written SCALR4_Drug_Clinical_TC1162_US9312_Rx_InclusionList_Yes_StoreB SCALR4_Drug_Clinical_TC1162_US9312_Rx_InclusionList_Yes_StoreB\n"
          ],
          "name": "stdout"
        },
        {
          "output_type": "stream",
          "text": [
            "/usr/local/lib/python3.6/dist-packages/ipykernel_launcher.py:2: FutureWarning: The 'get_values' method is deprecated and will be removed in a future version. Use '.to_numpy()' or '.array' instead.\n",
            "  \n"
          ],
          "name": "stderr"
        }
      ]
    },
    {
      "cell_type": "code",
      "metadata": {
        "id": "gtJqiKP86ulk",
        "colab_type": "code",
        "outputId": "aee848f9-b3cb-4d16-8e00-9caf92501c4f",
        "colab": {
          "base_uri": "https://localhost:8080/",
          "height": 33
        }
      },
      "source": [
        "drugcase1=\"E2E_KPHC_TC01003_Create_RAR_For_Non_Refillable_Rx_From__Another_Store_Within_Region_Deny_The__RAR\"\n",
        "find_cosine_similarity(drugs_cases_all.lower(),drugcase1.lower())"
      ],
      "execution_count": 0,
      "outputs": [
        {
          "output_type": "execute_result",
          "data": {
            "text/plain": [
              "(0.07790773238432074, 7)"
            ]
          },
          "metadata": {
            "tags": []
          },
          "execution_count": 214
        }
      ]
    },
    {
      "cell_type": "code",
      "metadata": {
        "id": "OoMP33Zm64yb",
        "colab_type": "code",
        "outputId": "794379ee-7a82-4723-e1bf-546005888b2a",
        "colab": {
          "base_uri": "https://localhost:8080/",
          "height": 33
        }
      },
      "source": [
        ""
      ],
      "execution_count": 0,
      "outputs": [
        {
          "output_type": "execute_result",
          "data": {
            "text/plain": [
              "(0.1554174680400523, 15)"
            ]
          },
          "metadata": {
            "tags": []
          },
          "execution_count": 196
        }
      ]
    },
    {
      "cell_type": "code",
      "metadata": {
        "id": "rUcV1FiD7Pf3",
        "colab_type": "code",
        "outputId": "c047d595-aea0-4f78-9495-e534c7f70e29",
        "colab": {
          "base_uri": "https://localhost:8080/",
          "height": 328
        }
      },
      "source": [
        "df[\"similarity\"]=df[\"Test Name\"].apply(lambda x: find_cosine_similarity(x.lower(),drugs_cases_all.lower()) )"
      ],
      "execution_count": 0,
      "outputs": [
        {
          "output_type": "error",
          "ename": "KeyboardInterrupt",
          "evalue": "ignored",
          "traceback": [
            "\u001b[0;31m---------------------------------------------------------------------------\u001b[0m",
            "\u001b[0;31mKeyboardInterrupt\u001b[0m                         Traceback (most recent call last)",
            "\u001b[0;32m<ipython-input-198-31acf9b7363d>\u001b[0m in \u001b[0;36m<module>\u001b[0;34m()\u001b[0m\n\u001b[0;32m----> 1\u001b[0;31m \u001b[0mdf\u001b[0m\u001b[0;34m[\u001b[0m\u001b[0;34m\"similarity\"\u001b[0m\u001b[0;34m]\u001b[0m\u001b[0;34m=\u001b[0m\u001b[0mdf\u001b[0m\u001b[0;34m[\u001b[0m\u001b[0;34m\"Test Name\"\u001b[0m\u001b[0;34m]\u001b[0m\u001b[0;34m.\u001b[0m\u001b[0mapply\u001b[0m\u001b[0;34m(\u001b[0m\u001b[0;32mlambda\u001b[0m \u001b[0mx\u001b[0m\u001b[0;34m:\u001b[0m \u001b[0mfind_cosine_similarity\u001b[0m\u001b[0;34m(\u001b[0m\u001b[0mx\u001b[0m\u001b[0;34m.\u001b[0m\u001b[0mlower\u001b[0m\u001b[0;34m(\u001b[0m\u001b[0;34m)\u001b[0m\u001b[0;34m,\u001b[0m\u001b[0mdrugs_cases_all\u001b[0m\u001b[0;34m.\u001b[0m\u001b[0mlower\u001b[0m\u001b[0;34m(\u001b[0m\u001b[0;34m)\u001b[0m\u001b[0;34m)\u001b[0m \u001b[0;34m)\u001b[0m\u001b[0;34m\u001b[0m\u001b[0;34m\u001b[0m\u001b[0m\n\u001b[0m",
            "\u001b[0;32m/usr/local/lib/python3.6/dist-packages/pandas/core/series.py\u001b[0m in \u001b[0;36mapply\u001b[0;34m(self, func, convert_dtype, args, **kwds)\u001b[0m\n\u001b[1;32m   4043\u001b[0m             \u001b[0;32melse\u001b[0m\u001b[0;34m:\u001b[0m\u001b[0;34m\u001b[0m\u001b[0;34m\u001b[0m\u001b[0m\n\u001b[1;32m   4044\u001b[0m                 \u001b[0mvalues\u001b[0m \u001b[0;34m=\u001b[0m \u001b[0mself\u001b[0m\u001b[0;34m.\u001b[0m\u001b[0mastype\u001b[0m\u001b[0;34m(\u001b[0m\u001b[0mobject\u001b[0m\u001b[0;34m)\u001b[0m\u001b[0;34m.\u001b[0m\u001b[0mvalues\u001b[0m\u001b[0;34m\u001b[0m\u001b[0;34m\u001b[0m\u001b[0m\n\u001b[0;32m-> 4045\u001b[0;31m                 \u001b[0mmapped\u001b[0m \u001b[0;34m=\u001b[0m \u001b[0mlib\u001b[0m\u001b[0;34m.\u001b[0m\u001b[0mmap_infer\u001b[0m\u001b[0;34m(\u001b[0m\u001b[0mvalues\u001b[0m\u001b[0;34m,\u001b[0m \u001b[0mf\u001b[0m\u001b[0;34m,\u001b[0m \u001b[0mconvert\u001b[0m\u001b[0;34m=\u001b[0m\u001b[0mconvert_dtype\u001b[0m\u001b[0;34m)\u001b[0m\u001b[0;34m\u001b[0m\u001b[0;34m\u001b[0m\u001b[0m\n\u001b[0m\u001b[1;32m   4046\u001b[0m \u001b[0;34m\u001b[0m\u001b[0m\n\u001b[1;32m   4047\u001b[0m         \u001b[0;32mif\u001b[0m \u001b[0mlen\u001b[0m\u001b[0;34m(\u001b[0m\u001b[0mmapped\u001b[0m\u001b[0;34m)\u001b[0m \u001b[0;32mand\u001b[0m \u001b[0misinstance\u001b[0m\u001b[0;34m(\u001b[0m\u001b[0mmapped\u001b[0m\u001b[0;34m[\u001b[0m\u001b[0;36m0\u001b[0m\u001b[0;34m]\u001b[0m\u001b[0;34m,\u001b[0m \u001b[0mSeries\u001b[0m\u001b[0;34m)\u001b[0m\u001b[0;34m:\u001b[0m\u001b[0;34m\u001b[0m\u001b[0;34m\u001b[0m\u001b[0m\n",
            "\u001b[0;32mpandas/_libs/lib.pyx\u001b[0m in \u001b[0;36mpandas._libs.lib.map_infer\u001b[0;34m()\u001b[0m\n",
            "\u001b[0;32m<ipython-input-198-31acf9b7363d>\u001b[0m in \u001b[0;36m<lambda>\u001b[0;34m(x)\u001b[0m\n\u001b[0;32m----> 1\u001b[0;31m \u001b[0mdf\u001b[0m\u001b[0;34m[\u001b[0m\u001b[0;34m\"similarity\"\u001b[0m\u001b[0;34m]\u001b[0m\u001b[0;34m=\u001b[0m\u001b[0mdf\u001b[0m\u001b[0;34m[\u001b[0m\u001b[0;34m\"Test Name\"\u001b[0m\u001b[0;34m]\u001b[0m\u001b[0;34m.\u001b[0m\u001b[0mapply\u001b[0m\u001b[0;34m(\u001b[0m\u001b[0;32mlambda\u001b[0m \u001b[0mx\u001b[0m\u001b[0;34m:\u001b[0m \u001b[0mfind_cosine_similarity\u001b[0m\u001b[0;34m(\u001b[0m\u001b[0mx\u001b[0m\u001b[0;34m.\u001b[0m\u001b[0mlower\u001b[0m\u001b[0;34m(\u001b[0m\u001b[0;34m)\u001b[0m\u001b[0;34m,\u001b[0m\u001b[0mdrugs_cases_all\u001b[0m\u001b[0;34m.\u001b[0m\u001b[0mlower\u001b[0m\u001b[0;34m(\u001b[0m\u001b[0;34m)\u001b[0m\u001b[0;34m)\u001b[0m \u001b[0;34m)\u001b[0m\u001b[0;34m\u001b[0m\u001b[0;34m\u001b[0m\u001b[0m\n\u001b[0m",
            "\u001b[0;32m<ipython-input-162-619376631e6a>\u001b[0m in \u001b[0;36mfind_cosine_similarity\u001b[0;34m(X, Y)\u001b[0m\n\u001b[1;32m     17\u001b[0m   \u001b[0;31m# tokenization\u001b[0m\u001b[0;34m\u001b[0m\u001b[0;34m\u001b[0m\u001b[0;34m\u001b[0m\u001b[0m\n\u001b[1;32m     18\u001b[0m   \u001b[0mX_list\u001b[0m \u001b[0;34m=\u001b[0m \u001b[0mword_tokenize\u001b[0m\u001b[0;34m(\u001b[0m\u001b[0mX\u001b[0m\u001b[0;34m)\u001b[0m\u001b[0;34m\u001b[0m\u001b[0;34m\u001b[0m\u001b[0m\n\u001b[0;32m---> 19\u001b[0;31m   \u001b[0mY_list\u001b[0m \u001b[0;34m=\u001b[0m \u001b[0mword_tokenize\u001b[0m\u001b[0;34m(\u001b[0m\u001b[0mY\u001b[0m\u001b[0;34m)\u001b[0m\u001b[0;34m\u001b[0m\u001b[0;34m\u001b[0m\u001b[0m\n\u001b[0m\u001b[1;32m     20\u001b[0m \u001b[0;34m\u001b[0m\u001b[0m\n\u001b[1;32m     21\u001b[0m   \u001b[0;31m# sw contains the list of stopwords\u001b[0m\u001b[0;34m\u001b[0m\u001b[0;34m\u001b[0m\u001b[0;34m\u001b[0m\u001b[0m\n",
            "\u001b[0;32m/usr/local/lib/python3.6/dist-packages/nltk/tokenize/__init__.py\u001b[0m in \u001b[0;36mword_tokenize\u001b[0;34m(text, language, preserve_line)\u001b[0m\n\u001b[1;32m    127\u001b[0m     \"\"\"\n\u001b[1;32m    128\u001b[0m     \u001b[0msentences\u001b[0m \u001b[0;34m=\u001b[0m \u001b[0;34m[\u001b[0m\u001b[0mtext\u001b[0m\u001b[0;34m]\u001b[0m \u001b[0;32mif\u001b[0m \u001b[0mpreserve_line\u001b[0m \u001b[0;32melse\u001b[0m \u001b[0msent_tokenize\u001b[0m\u001b[0;34m(\u001b[0m\u001b[0mtext\u001b[0m\u001b[0;34m,\u001b[0m \u001b[0mlanguage\u001b[0m\u001b[0;34m)\u001b[0m\u001b[0;34m\u001b[0m\u001b[0;34m\u001b[0m\u001b[0m\n\u001b[0;32m--> 129\u001b[0;31m     return [token for sent in sentences\n\u001b[0m\u001b[1;32m    130\u001b[0m             for token in _treebank_word_tokenizer.tokenize(sent)]\n",
            "\u001b[0;32m/usr/local/lib/python3.6/dist-packages/nltk/tokenize/__init__.py\u001b[0m in \u001b[0;36m<listcomp>\u001b[0;34m(.0)\u001b[0m\n\u001b[1;32m    128\u001b[0m     \u001b[0msentences\u001b[0m \u001b[0;34m=\u001b[0m \u001b[0;34m[\u001b[0m\u001b[0mtext\u001b[0m\u001b[0;34m]\u001b[0m \u001b[0;32mif\u001b[0m \u001b[0mpreserve_line\u001b[0m \u001b[0;32melse\u001b[0m \u001b[0msent_tokenize\u001b[0m\u001b[0;34m(\u001b[0m\u001b[0mtext\u001b[0m\u001b[0;34m,\u001b[0m \u001b[0mlanguage\u001b[0m\u001b[0;34m)\u001b[0m\u001b[0;34m\u001b[0m\u001b[0;34m\u001b[0m\u001b[0m\n\u001b[1;32m    129\u001b[0m     return [token for sent in sentences\n\u001b[0;32m--> 130\u001b[0;31m             for token in _treebank_word_tokenizer.tokenize(sent)]\n\u001b[0m",
            "\u001b[0;32m/usr/local/lib/python3.6/dist-packages/nltk/tokenize/treebank.py\u001b[0m in \u001b[0;36mtokenize\u001b[0;34m(self, text, convert_parentheses, return_str)\u001b[0m\n\u001b[1;32m    134\u001b[0m \u001b[0;34m\u001b[0m\u001b[0m\n\u001b[1;32m    135\u001b[0m         \u001b[0;32mfor\u001b[0m \u001b[0mregexp\u001b[0m \u001b[0;32min\u001b[0m \u001b[0mself\u001b[0m\u001b[0;34m.\u001b[0m\u001b[0mCONTRACTIONS2\u001b[0m\u001b[0;34m:\u001b[0m\u001b[0;34m\u001b[0m\u001b[0;34m\u001b[0m\u001b[0m\n\u001b[0;32m--> 136\u001b[0;31m             \u001b[0mtext\u001b[0m \u001b[0;34m=\u001b[0m \u001b[0mregexp\u001b[0m\u001b[0;34m.\u001b[0m\u001b[0msub\u001b[0m\u001b[0;34m(\u001b[0m\u001b[0;34mr' \\1 \\2 '\u001b[0m\u001b[0;34m,\u001b[0m \u001b[0mtext\u001b[0m\u001b[0;34m)\u001b[0m\u001b[0;34m\u001b[0m\u001b[0;34m\u001b[0m\u001b[0m\n\u001b[0m\u001b[1;32m    137\u001b[0m         \u001b[0;32mfor\u001b[0m \u001b[0mregexp\u001b[0m \u001b[0;32min\u001b[0m \u001b[0mself\u001b[0m\u001b[0;34m.\u001b[0m\u001b[0mCONTRACTIONS3\u001b[0m\u001b[0;34m:\u001b[0m\u001b[0;34m\u001b[0m\u001b[0;34m\u001b[0m\u001b[0m\n\u001b[1;32m    138\u001b[0m             \u001b[0mtext\u001b[0m \u001b[0;34m=\u001b[0m \u001b[0mregexp\u001b[0m\u001b[0;34m.\u001b[0m\u001b[0msub\u001b[0m\u001b[0;34m(\u001b[0m\u001b[0;34mr' \\1 \\2 '\u001b[0m\u001b[0;34m,\u001b[0m \u001b[0mtext\u001b[0m\u001b[0;34m)\u001b[0m\u001b[0;34m\u001b[0m\u001b[0;34m\u001b[0m\u001b[0m\n",
            "\u001b[0;31mKeyboardInterrupt\u001b[0m: "
          ]
        }
      ]
    },
    {
      "cell_type": "code",
      "metadata": {
        "id": "rExmJwgH7nJu",
        "colab_type": "code",
        "colab": {}
      },
      "source": [
        "df.sort_values(by=\"similarity\",ascending=False)"
      ],
      "execution_count": 0,
      "outputs": []
    }
  ]
}